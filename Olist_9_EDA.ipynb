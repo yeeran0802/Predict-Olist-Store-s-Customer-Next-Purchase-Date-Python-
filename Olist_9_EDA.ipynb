{
 "cells": [
  {
   "cell_type": "markdown",
   "metadata": {},
   "source": [
    "# Brazilian E-Commerce Dataset by Olist\n",
    "\n",
    "# 巴西电商olist的数据集分析"
   ]
  },
  {
   "cell_type": "markdown",
   "metadata": {},
   "source": [
    "这是巴西Olist电子商务的数据集，包含了2016年到2018年在巴西多个市场中进行的10万份订单。\n",
    "\n",
    "同时，这是一份真实的商业数据，已经被匿名化。\n",
    "\n",
    "之后他们通过电子邮件的调查形式，收集顾客对于客户满意度的评分,获得了order_review数据集。\n",
    "\n",
    "官方网站 https://olist.com\n",
    "\n",
    "\n",
    "现在将用以下形式对这个数据集进行分析：\n",
    "\n",
    "1、customer 顾客\n",
    "\n",
    "2、product 产品\n",
    "\n",
    "3、payment 支付方式\n",
    "\n",
    "4、order 订单\n",
    "\n",
    "5、seller 卖家\n",
    "\n",
    "6、geolocation 地理位置\n",
    "\n",
    "7、item 订单产品明细\n",
    "\n",
    "8、order_review 反馈\n",
    "\n",
    "9、product_translation 产品的英文与葡萄牙语的翻译对照表"
   ]
  },
  {
   "cell_type": "markdown",
   "metadata": {},
   "source": [
    "数据集中的货币单位为巴西雷亚尔 Brazilian Reais (BRL)\n",
    "\n",
    "1 BRL = 0.26 USD\n",
    "一个巴西雷亚尔约等于0.26美金\n",
    "\n",
    "维基百科页面——巴西雷亚尔 https://en.wikipedia.org/wiki/Brazilian_real"
   ]
  },
  {
   "cell_type": "markdown",
   "metadata": {},
   "source": [
    "## 0. 加载数据集和分析包"
   ]
  },
  {
   "cell_type": "code",
   "execution_count": 1,
   "metadata": {},
   "outputs": [],
   "source": [
    "#load packages 加载分析包\n",
    "import pandas as pd\n",
    "import numpy as np\n",
    "\n",
    "import matplotlib.pyplot as plt\n",
    "import seaborn as sns\n",
    "%matplotlib inline\n",
    "sns.set_style('darkgrid')\n",
    "\n",
    "import warnings\n",
    "warnings.filterwarnings('ignore')"
   ]
  },
  {
   "cell_type": "code",
   "execution_count": 2,
   "metadata": {},
   "outputs": [],
   "source": [
    "#read all csv files 加载数据集\n",
    "product_translation = pd.read_csv(\"product_category_name_translation.csv\")\n",
    "\n",
    "payment = pd.read_csv(\"olist_order_payments_dataset.csv\")\n",
    "\n",
    "customer = pd.read_csv(\"olist_customers_dataset.csv\")\n",
    "\n",
    "seller = pd.read_csv(\"olist_sellers_dataset.csv\")\n",
    "\n",
    "product = pd.read_csv(\"olist_products_dataset.csv\")\n",
    "\n",
    "order = pd.read_csv(\"olist_orders_dataset.csv\")\n",
    "\n",
    "order_review = pd.read_csv(\"olist_order_reviews_dataset.csv\")\n",
    "\n",
    "item = pd.read_csv(\"olist_order_items_dataset.csv\")\n",
    "\n",
    "geolocation = pd.read_csv(\"olist_geolocation_dataset.csv\")"
   ]
  },
  {
   "cell_type": "markdown",
   "metadata": {},
   "source": [
    "## 1.Clean Data 清理数据"
   ]
  },
  {
   "cell_type": "code",
   "execution_count": 3,
   "metadata": {},
   "outputs": [],
   "source": [
    "def hist(dataset,feature):\n",
    "    dataset[feature].plot(kind = \"hist\", color = \"red\", alpha = 0.6)\n",
    "    return None"
   ]
  },
  {
   "cell_type": "code",
   "execution_count": 4,
   "metadata": {},
   "outputs": [],
   "source": [
    "#write a function for visualization 制作用于可视化的函数\n",
    "def plot(dataset,feature,plot_kind):\n",
    "    \n",
    "    dataset[feature].value_counts().plot(kind = plot_kind,\n",
    "                                        color = \"red\",\n",
    "                                        alpha = 0.6)\n",
    "    \n",
    "    return None"
   ]
  },
  {
   "cell_type": "markdown",
   "metadata": {},
   "source": [
    "#### customer 数据集"
   ]
  },
  {
   "cell_type": "markdown",
   "metadata": {},
   "source": [
    "{customer_id} - key to the orders dataset. Each order has a unique customer_id.\n",
    "\n",
    "{customer_unique_id} - unique identifier of a customer.\n",
    "\n",
    "{customer_zip_code_prefix} - first five digits of customer zip code\n",
    "\n",
    "{customer_city} - customer city name\n",
    "\n",
    "{customer_state}  - customer state\n"
   ]
  },
  {
   "cell_type": "code",
   "execution_count": 5,
   "metadata": {},
   "outputs": [
    {
     "data": {
      "text/html": [
       "<div>\n",
       "<style scoped>\n",
       "    .dataframe tbody tr th:only-of-type {\n",
       "        vertical-align: middle;\n",
       "    }\n",
       "\n",
       "    .dataframe tbody tr th {\n",
       "        vertical-align: top;\n",
       "    }\n",
       "\n",
       "    .dataframe thead th {\n",
       "        text-align: right;\n",
       "    }\n",
       "</style>\n",
       "<table border=\"1\" class=\"dataframe\">\n",
       "  <thead>\n",
       "    <tr style=\"text-align: right;\">\n",
       "      <th></th>\n",
       "      <th>customer_id</th>\n",
       "      <th>customer_unique_id</th>\n",
       "      <th>customer_zip_code_prefix</th>\n",
       "      <th>customer_city</th>\n",
       "      <th>customer_state</th>\n",
       "    </tr>\n",
       "  </thead>\n",
       "  <tbody>\n",
       "    <tr>\n",
       "      <th>0</th>\n",
       "      <td>06b8999e2fba1a1fbc88172c00ba8bc7</td>\n",
       "      <td>861eff4711a542e4b93843c6dd7febb0</td>\n",
       "      <td>14409</td>\n",
       "      <td>franca</td>\n",
       "      <td>SP</td>\n",
       "    </tr>\n",
       "    <tr>\n",
       "      <th>1</th>\n",
       "      <td>18955e83d337fd6b2def6b18a428ac77</td>\n",
       "      <td>290c77bc529b7ac935b93aa66c333dc3</td>\n",
       "      <td>9790</td>\n",
       "      <td>sao bernardo do campo</td>\n",
       "      <td>SP</td>\n",
       "    </tr>\n",
       "    <tr>\n",
       "      <th>2</th>\n",
       "      <td>4e7b3e00288586ebd08712fdd0374a03</td>\n",
       "      <td>060e732b5b29e8181a18229c7b0b2b5e</td>\n",
       "      <td>1151</td>\n",
       "      <td>sao paulo</td>\n",
       "      <td>SP</td>\n",
       "    </tr>\n",
       "    <tr>\n",
       "      <th>3</th>\n",
       "      <td>b2b6027bc5c5109e529d4dc6358b12c3</td>\n",
       "      <td>259dac757896d24d7702b9acbbff3f3c</td>\n",
       "      <td>8775</td>\n",
       "      <td>mogi das cruzes</td>\n",
       "      <td>SP</td>\n",
       "    </tr>\n",
       "    <tr>\n",
       "      <th>4</th>\n",
       "      <td>4f2d8ab171c80ec8364f7c12e35b23ad</td>\n",
       "      <td>345ecd01c38d18a9036ed96c73b8d066</td>\n",
       "      <td>13056</td>\n",
       "      <td>campinas</td>\n",
       "      <td>SP</td>\n",
       "    </tr>\n",
       "  </tbody>\n",
       "</table>\n",
       "</div>"
      ],
      "text/plain": [
       "                        customer_id                customer_unique_id  \\\n",
       "0  06b8999e2fba1a1fbc88172c00ba8bc7  861eff4711a542e4b93843c6dd7febb0   \n",
       "1  18955e83d337fd6b2def6b18a428ac77  290c77bc529b7ac935b93aa66c333dc3   \n",
       "2  4e7b3e00288586ebd08712fdd0374a03  060e732b5b29e8181a18229c7b0b2b5e   \n",
       "3  b2b6027bc5c5109e529d4dc6358b12c3  259dac757896d24d7702b9acbbff3f3c   \n",
       "4  4f2d8ab171c80ec8364f7c12e35b23ad  345ecd01c38d18a9036ed96c73b8d066   \n",
       "\n",
       "   customer_zip_code_prefix          customer_city customer_state  \n",
       "0                     14409                 franca             SP  \n",
       "1                      9790  sao bernardo do campo             SP  \n",
       "2                      1151              sao paulo             SP  \n",
       "3                      8775        mogi das cruzes             SP  \n",
       "4                     13056               campinas             SP  "
      ]
     },
     "execution_count": 5,
     "metadata": {},
     "output_type": "execute_result"
    }
   ],
   "source": [
    "customer.head()"
   ]
  },
  {
   "cell_type": "code",
   "execution_count": 6,
   "metadata": {},
   "outputs": [
    {
     "name": "stdout",
     "output_type": "stream",
     "text": [
      "<class 'pandas.core.frame.DataFrame'>\n",
      "RangeIndex: 99441 entries, 0 to 99440\n",
      "Data columns (total 5 columns):\n",
      "customer_id                 99441 non-null object\n",
      "customer_unique_id          99441 non-null object\n",
      "customer_zip_code_prefix    99441 non-null int64\n",
      "customer_city               99441 non-null object\n",
      "customer_state              99441 non-null object\n",
      "dtypes: int64(1), object(4)\n",
      "memory usage: 3.8+ MB\n"
     ]
    }
   ],
   "source": [
    "customer.info()"
   ]
  },
  {
   "cell_type": "code",
   "execution_count": 7,
   "metadata": {},
   "outputs": [
    {
     "data": {
      "text/plain": [
       "0"
      ]
     },
     "execution_count": 7,
     "metadata": {},
     "output_type": "execute_result"
    }
   ],
   "source": [
    "customer.duplicated().sum()"
   ]
  },
  {
   "cell_type": "code",
   "execution_count": 8,
   "metadata": {},
   "outputs": [
    {
     "data": {
      "text/plain": [
       "customer_id                 99441\n",
       "customer_unique_id          96096\n",
       "customer_zip_code_prefix    14994\n",
       "customer_city                4119\n",
       "customer_state                 27\n",
       "dtype: int64"
      ]
     },
     "execution_count": 8,
     "metadata": {},
     "output_type": "execute_result"
    }
   ],
   "source": [
    "customer.nunique()"
   ]
  },
  {
   "cell_type": "markdown",
   "metadata": {},
   "source": [
    "一共99441条数据，没有重复值，也没有缺失值"
   ]
  },
  {
   "cell_type": "code",
   "execution_count": 9,
   "metadata": {},
   "outputs": [
    {
     "data": {
      "image/png": "[encoded data removed]",
      "text/plain": [
       "<Figure size 432x288 with 1 Axes>"
      ]
     },
     "metadata": {
      "needs_background": "light"
     },
     "output_type": "display_data"
    }
   ],
   "source": [
    "hist(customer,\"customer_zip_code_prefix\")"
   ]
  },
  {
   "cell_type": "code",
   "execution_count": 10,
   "metadata": {},
   "outputs": [
    {
     "data": {
      "image/png": "[encoded data removed]",
      "text/plain": [
       "<Figure size 432x288 with 1 Axes>"
      ]
     },
     "metadata": {
      "needs_background": "light"
     },
     "output_type": "display_data"
    }
   ],
   "source": [
    "plot(customer,\"customer_state\",\"bar\")"
   ]
  },
  {
   "cell_type": "code",
   "execution_count": 11,
   "metadata": {},
   "outputs": [],
   "source": [
    "customer_copy = customer.copy()"
   ]
  },
  {
   "cell_type": "markdown",
   "metadata": {},
   "source": [
    "#### order 数据集"
   ]
  },
  {
   "cell_type": "markdown",
   "metadata": {},
   "source": [
    "{order_id} - unique identifier of the order.\n",
    "\n",
    "{customer_id} - key to the customer dataset. Each order has a unique customer_id.\n",
    "\n",
    "{order_status} - Reference to the order status (delivered, shipped, etc).\n",
    "\n",
    "{order_purchase_timestamp} - Shows the purchase timestamp.\n",
    "\n",
    "{order_approved_at} - Shows the payment approval timestamp.\n",
    "\n",
    "{order_delivered_carrier_date} - Shows the order posting timestamp. When it was handled to the logistic partner.\n",
    "\n",
    "{order_delivered_customer_date} - Shows the actual order delivery date to the customer.\n",
    "\n",
    "{order_estimated_delivery_date} - Shows the estimated delivery date that was informed to customer at the purchase moment."
   ]
  },
  {
   "cell_type": "markdown",
   "metadata": {},
   "source": [
    "The estimated delivery date was roughly calculated by using this:\n",
    "\n",
    "Seller shipping days - The amount of time a seller needs to ship its orders.\n",
    "\n",
    "Seller SKU availability days - The amount of time a seller needs to ship a specific sku.\n",
    "\n",
    "Transit Time - The amount of time informed by the logistic operator to deliver that order from origin to destination.\n",
    "\n",
    "The same logic applies for freight value:\n",
    "\n",
    "Package Weight\n",
    "\n",
    "Package dimensions\n",
    "\n",
    "Origin\n",
    "\n",
    "Destination\n",
    "\n",
    "Product Value - For insurance purposes\n",
    "\n",
    "Delivered early orders might be explained by sellers that shipped the order earlier than expected and also logistic operators that delivered the order before the deadline. Delivered late are mostly explained by the opposite."
   ]
  },
  {
   "cell_type": "code",
   "execution_count": 12,
   "metadata": {},
   "outputs": [
    {
     "data": {
      "text/html": [
       "<div>\n",
       "<style scoped>\n",
       "    .dataframe tbody tr th:only-of-type {\n",
       "        vertical-align: middle;\n",
       "    }\n",
       "\n",
       "    .dataframe tbody tr th {\n",
       "        vertical-align: top;\n",
       "    }\n",
       "\n",
       "    .dataframe thead th {\n",
       "        text-align: right;\n",
       "    }\n",
       "</style>\n",
       "<table border=\"1\" class=\"dataframe\">\n",
       "  <thead>\n",
       "    <tr style=\"text-align: right;\">\n",
       "      <th></th>\n",
       "      <th>order_id</th>\n",
       "      <th>customer_id</th>\n",
       "      <th>order_status</th>\n",
       "      <th>order_purchase_timestamp</th>\n",
       "      <th>order_approved_at</th>\n",
       "      <th>order_delivered_carrier_date</th>\n",
       "      <th>order_delivered_customer_date</th>\n",
       "      <th>order_estimated_delivery_date</th>\n",
       "    </tr>\n",
       "  </thead>\n",
       "  <tbody>\n",
       "    <tr>\n",
       "      <th>0</th>\n",
       "      <td>e481f51cbdc54678b7cc49136f2d6af7</td>\n",
       "      <td>9ef432eb6251297304e76186b10a928d</td>\n",
       "      <td>delivered</td>\n",
       "      <td>2017-10-02 10:56:33</td>\n",
       "      <td>2017-10-02 11:07:15</td>\n",
       "      <td>2017-10-04 19:55:00</td>\n",
       "      <td>2017-10-10 21:25:13</td>\n",
       "      <td>2017-10-18 00:00:00</td>\n",
       "    </tr>\n",
       "    <tr>\n",
       "      <th>1</th>\n",
       "      <td>53cdb2fc8bc7dce0b6741e2150273451</td>\n",
       "      <td>b0830fb4747a6c6d20dea0b8c802d7ef</td>\n",
       "      <td>delivered</td>\n",
       "      <td>2018-07-24 20:41:37</td>\n",
       "      <td>2018-07-26 03:24:27</td>\n",
       "      <td>2018-07-26 14:31:00</td>\n",
       "      <td>2018-08-07 15:27:45</td>\n",
       "      <td>2018-08-13 00:00:00</td>\n",
       "    </tr>\n",
       "    <tr>\n",
       "      <th>2</th>\n",
       "      <td>47770eb9100c2d0c44946d9cf07ec65d</td>\n",
       "      <td>41ce2a54c0b03bf3443c3d931a367089</td>\n",
       "      <td>delivered</td>\n",
       "      <td>2018-08-08 08:38:49</td>\n",
       "      <td>2018-08-08 08:55:23</td>\n",
       "      <td>2018-08-08 13:50:00</td>\n",
       "      <td>2018-08-17 18:06:29</td>\n",
       "      <td>2018-09-04 00:00:00</td>\n",
       "    </tr>\n",
       "    <tr>\n",
       "      <th>3</th>\n",
       "      <td>949d5b44dbf5de918fe9c16f97b45f8a</td>\n",
       "      <td>f88197465ea7920adcdbec7375364d82</td>\n",
       "      <td>delivered</td>\n",
       "      <td>2017-11-18 19:28:06</td>\n",
       "      <td>2017-11-18 19:45:59</td>\n",
       "      <td>2017-11-22 13:39:59</td>\n",
       "      <td>2017-12-02 00:28:42</td>\n",
       "      <td>2017-12-15 00:00:00</td>\n",
       "    </tr>\n",
       "    <tr>\n",
       "      <th>4</th>\n",
       "      <td>ad21c59c0840e6cb83a9ceb5573f8159</td>\n",
       "      <td>8ab97904e6daea8866dbdbc4fb7aad2c</td>\n",
       "      <td>delivered</td>\n",
       "      <td>2018-02-13 21:18:39</td>\n",
       "      <td>2018-02-13 22:20:29</td>\n",
       "      <td>2018-02-14 19:46:34</td>\n",
       "      <td>2018-02-16 18:17:02</td>\n",
       "      <td>2018-02-26 00:00:00</td>\n",
       "    </tr>\n",
       "  </tbody>\n",
       "</table>\n",
       "</div>"
      ],
      "text/plain": [
       "                           order_id                       customer_id  \\\n",
       "0  e481f51cbdc54678b7cc49136f2d6af7  9ef432eb6251297304e76186b10a928d   \n",
       "1  53cdb2fc8bc7dce0b6741e2150273451  b0830fb4747a6c6d20dea0b8c802d7ef   \n",
       "2  47770eb9100c2d0c44946d9cf07ec65d  41ce2a54c0b03bf3443c3d931a367089   \n",
       "3  949d5b44dbf5de918fe9c16f97b45f8a  f88197465ea7920adcdbec7375364d82   \n",
       "4  ad21c59c0840e6cb83a9ceb5573f8159  8ab97904e6daea8866dbdbc4fb7aad2c   \n",
       "\n",
       "  order_status order_purchase_timestamp    order_approved_at  \\\n",
       "0    delivered      2017-10-02 10:56:33  2017-10-02 11:07:15   \n",
       "1    delivered      2018-07-24 20:41:37  2018-07-26 03:24:27   \n",
       "2    delivered      2018-08-08 08:38:49  2018-08-08 08:55:23   \n",
       "3    delivered      2017-11-18 19:28:06  2017-11-18 19:45:59   \n",
       "4    delivered      2018-02-13 21:18:39  2018-02-13 22:20:29   \n",
       "\n",
       "  order_delivered_carrier_date order_delivered_customer_date  \\\n",
       "0          2017-10-04 19:55:00           2017-10-10 21:25:13   \n",
       "1          2018-07-26 14:31:00           2018-08-07 15:27:45   \n",
       "2          2018-08-08 13:50:00           2018-08-17 18:06:29   \n",
       "3          2017-11-22 13:39:59           2017-12-02 00:28:42   \n",
       "4          2018-02-14 19:46:34           2018-02-16 18:17:02   \n",
       "\n",
       "  order_estimated_delivery_date  \n",
       "0           2017-10-18 00:00:00  \n",
       "1           2018-08-13 00:00:00  \n",
       "2           2018-09-04 00:00:00  \n",
       "3           2017-12-15 00:00:00  \n",
       "4           2018-02-26 00:00:00  "
      ]
     },
     "execution_count": 12,
     "metadata": {},
     "output_type": "execute_result"
    }
   ],
   "source": [
    "order.head()"
   ]
  },
  {
   "cell_type": "code",
   "execution_count": 13,
   "metadata": {},
   "outputs": [
    {
     "name": "stdout",
     "output_type": "stream",
     "text": [
      "<class 'pandas.core.frame.DataFrame'>\n",
      "RangeIndex: 99441 entries, 0 to 99440\n",
      "Data columns (total 8 columns):\n",
      "order_id                         99441 non-null object\n",
      "customer_id                      99441 non-null object\n",
      "order_status                     99441 non-null object\n",
      "order_purchase_timestamp         99441 non-null object\n",
      "order_approved_at                99281 non-null object\n",
      "order_delivered_carrier_date     97658 non-null object\n",
      "order_delivered_customer_date    96476 non-null object\n",
      "order_estimated_delivery_date    99441 non-null object\n",
      "dtypes: object(8)\n",
      "memory usage: 6.1+ MB\n"
     ]
    }
   ],
   "source": [
    "order.info()"
   ]
  },
  {
   "cell_type": "code",
   "execution_count": 14,
   "metadata": {},
   "outputs": [
    {
     "name": "stdout",
     "output_type": "stream",
     "text": [
      "The number of duplicated row in the dataset is : 0\n"
     ]
    }
   ],
   "source": [
    "print(\"The number of duplicated row in the dataset is :\",order.duplicated().sum())"
   ]
  },
  {
   "cell_type": "code",
   "execution_count": 15,
   "metadata": {},
   "outputs": [
    {
     "data": {
      "text/plain": [
       "order_id                            0\n",
       "customer_id                         0\n",
       "order_status                        0\n",
       "order_purchase_timestamp            0\n",
       "order_approved_at                 160\n",
       "order_delivered_carrier_date     1783\n",
       "order_delivered_customer_date    2965\n",
       "order_estimated_delivery_date       0\n",
       "dtype: int64"
      ]
     },
     "execution_count": 15,
     "metadata": {},
     "output_type": "execute_result"
    }
   ],
   "source": [
    "order.isnull().sum()"
   ]
  },
  {
   "cell_type": "markdown",
   "metadata": {},
   "source": [
    "没有重复值，但是在order_approved_at和order_delivered_carrier_date order_delivered_customer_date等列数据条目缺少"
   ]
  },
  {
   "cell_type": "code",
   "execution_count": 16,
   "metadata": {},
   "outputs": [
    {
     "name": "stdout",
     "output_type": "stream",
     "text": [
      "The unique number of this order_id column in the dataset is : 99441\n"
     ]
    }
   ],
   "source": [
    "print(\"The unique number of this order_id column in the dataset is :\",order.order_id.nunique())"
   ]
  },
  {
   "cell_type": "code",
   "execution_count": 17,
   "metadata": {},
   "outputs": [
    {
     "name": "stdout",
     "output_type": "stream",
     "text": [
      "The unique number of this customer_id column in the dataset is : 99441\n"
     ]
    }
   ],
   "source": [
    "print(\"The unique number of this customer_id column in the dataset is :\",order.customer_id.nunique())"
   ]
  },
  {
   "cell_type": "code",
   "execution_count": 18,
   "metadata": {},
   "outputs": [
    {
     "data": {
      "text/plain": [
       "delivered      96478\n",
       "shipped         1107\n",
       "canceled         625\n",
       "unavailable      609\n",
       "invoiced         314\n",
       "processing       301\n",
       "created            5\n",
       "approved           2\n",
       "Name: order_status, dtype: int64"
      ]
     },
     "execution_count": 18,
     "metadata": {},
     "output_type": "execute_result"
    }
   ],
   "source": [
    "order.order_status.value_counts()"
   ]
  },
  {
   "cell_type": "code",
   "execution_count": 19,
   "metadata": {},
   "outputs": [
    {
     "data": {
      "text/plain": [
       "delivered      0.970203\n",
       "shipped        0.011132\n",
       "canceled       0.006285\n",
       "unavailable    0.006124\n",
       "invoiced       0.003158\n",
       "processing     0.003027\n",
       "created        0.000050\n",
       "approved       0.000020\n",
       "Name: order_status, dtype: float64"
      ]
     },
     "execution_count": 19,
     "metadata": {},
     "output_type": "execute_result"
    }
   ],
   "source": [
    "status_perc = order.order_status.value_counts()/order.order_status.value_counts().sum()\n",
    "status_perc"
   ]
  },
  {
   "cell_type": "code",
   "execution_count": 20,
   "metadata": {},
   "outputs": [
    {
     "data": {
      "text/plain": [
       "<matplotlib.axes._subplots.AxesSubplot at 0x1a205ad8d0>"
      ]
     },
     "execution_count": 20,
     "metadata": {},
     "output_type": "execute_result"
    },
    {
     "data": {
      "image/png": "[encoded data removed]",
      "text/plain": [
       "<Figure size 432x288 with 1 Axes>"
      ]
     },
     "metadata": {
      "needs_background": "light"
     },
     "output_type": "display_data"
    }
   ],
   "source": [
    "status_perc.plot(kind = \"bar\",color = \"red\",alpha = 0.6)"
   ]
  },
  {
   "cell_type": "markdown",
   "metadata": {},
   "source": [
    "已经显示delivered的订单是没有问题的，现在更关注那些没有成交的订单，所以将状态显示为delivered去掉，查看剩下的部分"
   ]
  },
  {
   "cell_type": "code",
   "execution_count": 21,
   "metadata": {},
   "outputs": [
    {
     "data": {
      "text/plain": [
       "<matplotlib.axes._subplots.AxesSubplot at 0x1a20d6b160>"
      ]
     },
     "execution_count": 21,
     "metadata": {},
     "output_type": "execute_result"
    },
    {
     "data": {
      "image/png": "[encoded data removed]",
      "text/plain": [
       "<Figure size 432x288 with 1 Axes>"
      ]
     },
     "metadata": {
      "needs_background": "light"
     },
     "output_type": "display_data"
    }
   ],
   "source": [
    "order.query('order_status != \"delivered\"')[\"order_status\"].value_counts().plot(kind = \"bar\", \n",
    "                                                                               color = \"red\",\n",
    "                                                                               alpha = 0.6)"
   ]
  },
  {
   "cell_type": "markdown",
   "metadata": {},
   "source": [
    "将正常成交且顺利运送到的订单去除掉之后，剩下的订单中，正在派送 shipped 还是数量最多的，也有canceled 处于取消状态、和 unavailable状态异常的、invoiced、processing 正在处理中的、created 刚刚创建的、approved 已确认的"
   ]
  },
  {
   "cell_type": "code",
   "execution_count": 22,
   "metadata": {},
   "outputs": [
    {
     "data": {
      "text/html": [
       "<div>\n",
       "<style scoped>\n",
       "    .dataframe tbody tr th:only-of-type {\n",
       "        vertical-align: middle;\n",
       "    }\n",
       "\n",
       "    .dataframe tbody tr th {\n",
       "        vertical-align: top;\n",
       "    }\n",
       "\n",
       "    .dataframe thead th {\n",
       "        text-align: right;\n",
       "    }\n",
       "</style>\n",
       "<table border=\"1\" class=\"dataframe\">\n",
       "  <thead>\n",
       "    <tr style=\"text-align: right;\">\n",
       "      <th></th>\n",
       "      <th>order_id</th>\n",
       "      <th>customer_id</th>\n",
       "      <th>order_status</th>\n",
       "      <th>order_purchase_timestamp</th>\n",
       "      <th>order_approved_at</th>\n",
       "      <th>order_delivered_carrier_date</th>\n",
       "      <th>order_delivered_customer_date</th>\n",
       "      <th>order_estimated_delivery_date</th>\n",
       "    </tr>\n",
       "  </thead>\n",
       "  <tbody>\n",
       "    <tr>\n",
       "      <th>397</th>\n",
       "      <td>1b9ecfe83cdc259250e1a8aca174f0ad</td>\n",
       "      <td>6d6b50b66d79f80827b6d96751528d30</td>\n",
       "      <td>canceled</td>\n",
       "      <td>2018-08-04 14:29:27</td>\n",
       "      <td>2018-08-07 04:10:26</td>\n",
       "      <td>NaN</td>\n",
       "      <td>NaN</td>\n",
       "      <td>2018-08-14 00:00:00</td>\n",
       "    </tr>\n",
       "    <tr>\n",
       "      <th>613</th>\n",
       "      <td>714fb133a6730ab81fa1d3c1b2007291</td>\n",
       "      <td>e3fe72696c4713d64d3c10afe71e75ed</td>\n",
       "      <td>canceled</td>\n",
       "      <td>2018-01-26 21:34:08</td>\n",
       "      <td>2018-01-26 21:58:39</td>\n",
       "      <td>2018-01-29 22:33:25</td>\n",
       "      <td>NaN</td>\n",
       "      <td>2018-02-22 00:00:00</td>\n",
       "    </tr>\n",
       "    <tr>\n",
       "      <th>1058</th>\n",
       "      <td>3a129877493c8189c59c60eb71d97c29</td>\n",
       "      <td>0913cdce793684e52bbfac69d87e91fd</td>\n",
       "      <td>canceled</td>\n",
       "      <td>2018-01-25 13:34:24</td>\n",
       "      <td>2018-01-25 13:50:20</td>\n",
       "      <td>2018-01-26 21:42:18</td>\n",
       "      <td>NaN</td>\n",
       "      <td>2018-02-23 00:00:00</td>\n",
       "    </tr>\n",
       "    <tr>\n",
       "      <th>1130</th>\n",
       "      <td>00b1cb0320190ca0daa2c88b35206009</td>\n",
       "      <td>3532ba38a3fd242259a514ac2b6ae6b6</td>\n",
       "      <td>canceled</td>\n",
       "      <td>2018-08-28 15:26:39</td>\n",
       "      <td>NaN</td>\n",
       "      <td>NaN</td>\n",
       "      <td>NaN</td>\n",
       "      <td>2018-09-12 00:00:00</td>\n",
       "    </tr>\n",
       "    <tr>\n",
       "      <th>1801</th>\n",
       "      <td>ed3efbd3a87bea76c2812c66a0b32219</td>\n",
       "      <td>191984a8ba4cbb2145acb4fe35b69664</td>\n",
       "      <td>canceled</td>\n",
       "      <td>2018-09-20 13:54:16</td>\n",
       "      <td>NaN</td>\n",
       "      <td>NaN</td>\n",
       "      <td>NaN</td>\n",
       "      <td>2018-10-17 00:00:00</td>\n",
       "    </tr>\n",
       "  </tbody>\n",
       "</table>\n",
       "</div>"
      ],
      "text/plain": [
       "                              order_id                       customer_id  \\\n",
       "397   1b9ecfe83cdc259250e1a8aca174f0ad  6d6b50b66d79f80827b6d96751528d30   \n",
       "613   714fb133a6730ab81fa1d3c1b2007291  e3fe72696c4713d64d3c10afe71e75ed   \n",
       "1058  3a129877493c8189c59c60eb71d97c29  0913cdce793684e52bbfac69d87e91fd   \n",
       "1130  00b1cb0320190ca0daa2c88b35206009  3532ba38a3fd242259a514ac2b6ae6b6   \n",
       "1801  ed3efbd3a87bea76c2812c66a0b32219  191984a8ba4cbb2145acb4fe35b69664   \n",
       "\n",
       "     order_status order_purchase_timestamp    order_approved_at  \\\n",
       "397      canceled      2018-08-04 14:29:27  2018-08-07 04:10:26   \n",
       "613      canceled      2018-01-26 21:34:08  2018-01-26 21:58:39   \n",
       "1058     canceled      2018-01-25 13:34:24  2018-01-25 13:50:20   \n",
       "1130     canceled      2018-08-28 15:26:39                  NaN   \n",
       "1801     canceled      2018-09-20 13:54:16                  NaN   \n",
       "\n",
       "     order_delivered_carrier_date order_delivered_customer_date  \\\n",
       "397                           NaN                           NaN   \n",
       "613           2018-01-29 22:33:25                           NaN   \n",
       "1058          2018-01-26 21:42:18                           NaN   \n",
       "1130                          NaN                           NaN   \n",
       "1801                          NaN                           NaN   \n",
       "\n",
       "     order_estimated_delivery_date  \n",
       "397            2018-08-14 00:00:00  \n",
       "613            2018-02-22 00:00:00  \n",
       "1058           2018-02-23 00:00:00  \n",
       "1130           2018-09-12 00:00:00  \n",
       "1801           2018-10-17 00:00:00  "
      ]
     },
     "execution_count": 22,
     "metadata": {},
     "output_type": "execute_result"
    }
   ],
   "source": [
    "canceled_order = order.query(\"order_status == 'canceled'\")\n",
    "canceled_order.head()"
   ]
  },
  {
   "cell_type": "markdown",
   "metadata": {},
   "source": [
    "取消的订单"
   ]
  },
  {
   "cell_type": "code",
   "execution_count": 23,
   "metadata": {},
   "outputs": [
    {
     "data": {
      "text/plain": [
       "order_id                         609\n",
       "customer_id                      609\n",
       "order_status                     609\n",
       "order_purchase_timestamp         609\n",
       "order_approved_at                609\n",
       "order_delivered_carrier_date       0\n",
       "order_delivered_customer_date      0\n",
       "order_estimated_delivery_date    609\n",
       "dtype: int64"
      ]
     },
     "execution_count": 23,
     "metadata": {},
     "output_type": "execute_result"
    }
   ],
   "source": [
    "unavailable_order = order.query('order_status == \"unavailable\"')\n",
    "unavailable_order.count()"
   ]
  },
  {
   "cell_type": "code",
   "execution_count": 24,
   "metadata": {},
   "outputs": [
    {
     "data": {
      "text/html": [
       "<div>\n",
       "<style scoped>\n",
       "    .dataframe tbody tr th:only-of-type {\n",
       "        vertical-align: middle;\n",
       "    }\n",
       "\n",
       "    .dataframe tbody tr th {\n",
       "        vertical-align: top;\n",
       "    }\n",
       "\n",
       "    .dataframe thead th {\n",
       "        text-align: right;\n",
       "    }\n",
       "</style>\n",
       "<table border=\"1\" class=\"dataframe\">\n",
       "  <thead>\n",
       "    <tr style=\"text-align: right;\">\n",
       "      <th></th>\n",
       "      <th>order_id</th>\n",
       "      <th>customer_id</th>\n",
       "      <th>order_status</th>\n",
       "      <th>order_purchase_timestamp</th>\n",
       "      <th>order_approved_at</th>\n",
       "      <th>order_delivered_carrier_date</th>\n",
       "      <th>order_delivered_customer_date</th>\n",
       "      <th>order_estimated_delivery_date</th>\n",
       "    </tr>\n",
       "  </thead>\n",
       "  <tbody>\n",
       "    <tr>\n",
       "      <th>266</th>\n",
       "      <td>8e24261a7e58791d10cb1bf9da94df5c</td>\n",
       "      <td>64a254d30eed42cd0e6c36dddb88adf0</td>\n",
       "      <td>unavailable</td>\n",
       "      <td>2017-11-16 15:09:28</td>\n",
       "      <td>2017-11-16 15:26:57</td>\n",
       "      <td>NaN</td>\n",
       "      <td>NaN</td>\n",
       "      <td>2017-12-05 00:00:00</td>\n",
       "    </tr>\n",
       "    <tr>\n",
       "      <th>586</th>\n",
       "      <td>c272bcd21c287498b4883c7512019702</td>\n",
       "      <td>9582c5bbecc65eb568e2c1d839b5cba1</td>\n",
       "      <td>unavailable</td>\n",
       "      <td>2018-01-31 11:31:37</td>\n",
       "      <td>2018-01-31 14:23:50</td>\n",
       "      <td>NaN</td>\n",
       "      <td>NaN</td>\n",
       "      <td>2018-02-16 00:00:00</td>\n",
       "    </tr>\n",
       "    <tr>\n",
       "      <th>687</th>\n",
       "      <td>37553832a3a89c9b2db59701c357ca67</td>\n",
       "      <td>7607cd563696c27ede287e515812d528</td>\n",
       "      <td>unavailable</td>\n",
       "      <td>2017-08-14 17:38:02</td>\n",
       "      <td>2017-08-17 00:15:18</td>\n",
       "      <td>NaN</td>\n",
       "      <td>NaN</td>\n",
       "      <td>2017-09-05 00:00:00</td>\n",
       "    </tr>\n",
       "    <tr>\n",
       "      <th>737</th>\n",
       "      <td>d57e15fb07fd180f06ab3926b39edcd2</td>\n",
       "      <td>470b93b3f1cde85550fc74cd3a476c78</td>\n",
       "      <td>unavailable</td>\n",
       "      <td>2018-01-08 19:39:03</td>\n",
       "      <td>2018-01-09 07:26:08</td>\n",
       "      <td>NaN</td>\n",
       "      <td>NaN</td>\n",
       "      <td>2018-02-06 00:00:00</td>\n",
       "    </tr>\n",
       "    <tr>\n",
       "      <th>1160</th>\n",
       "      <td>2f634e2cebf8c0283e7ef0989f77d217</td>\n",
       "      <td>7353b0fb8e8d9675e3a704c60ca44ebe</td>\n",
       "      <td>unavailable</td>\n",
       "      <td>2017-09-27 20:55:33</td>\n",
       "      <td>2017-09-28 01:32:50</td>\n",
       "      <td>NaN</td>\n",
       "      <td>NaN</td>\n",
       "      <td>2017-10-27 00:00:00</td>\n",
       "    </tr>\n",
       "  </tbody>\n",
       "</table>\n",
       "</div>"
      ],
      "text/plain": [
       "                              order_id                       customer_id  \\\n",
       "266   8e24261a7e58791d10cb1bf9da94df5c  64a254d30eed42cd0e6c36dddb88adf0   \n",
       "586   c272bcd21c287498b4883c7512019702  9582c5bbecc65eb568e2c1d839b5cba1   \n",
       "687   37553832a3a89c9b2db59701c357ca67  7607cd563696c27ede287e515812d528   \n",
       "737   d57e15fb07fd180f06ab3926b39edcd2  470b93b3f1cde85550fc74cd3a476c78   \n",
       "1160  2f634e2cebf8c0283e7ef0989f77d217  7353b0fb8e8d9675e3a704c60ca44ebe   \n",
       "\n",
       "     order_status order_purchase_timestamp    order_approved_at  \\\n",
       "266   unavailable      2017-11-16 15:09:28  2017-11-16 15:26:57   \n",
       "586   unavailable      2018-01-31 11:31:37  2018-01-31 14:23:50   \n",
       "687   unavailable      2017-08-14 17:38:02  2017-08-17 00:15:18   \n",
       "737   unavailable      2018-01-08 19:39:03  2018-01-09 07:26:08   \n",
       "1160  unavailable      2017-09-27 20:55:33  2017-09-28 01:32:50   \n",
       "\n",
       "     order_delivered_carrier_date order_delivered_customer_date  \\\n",
       "266                           NaN                           NaN   \n",
       "586                           NaN                           NaN   \n",
       "687                           NaN                           NaN   \n",
       "737                           NaN                           NaN   \n",
       "1160                          NaN                           NaN   \n",
       "\n",
       "     order_estimated_delivery_date  \n",
       "266            2017-12-05 00:00:00  \n",
       "586            2018-02-16 00:00:00  \n",
       "687            2017-09-05 00:00:00  \n",
       "737            2018-02-06 00:00:00  \n",
       "1160           2017-10-27 00:00:00  "
      ]
     },
     "execution_count": 24,
     "metadata": {},
     "output_type": "execute_result"
    }
   ],
   "source": [
    "unavailable_order.head()"
   ]
  },
  {
   "cell_type": "markdown",
   "metadata": {},
   "source": [
    "订单状态异常的"
   ]
  },
  {
   "cell_type": "code",
   "execution_count": 25,
   "metadata": {},
   "outputs": [
    {
     "data": {
      "text/html": [
       "<div>\n",
       "<style scoped>\n",
       "    .dataframe tbody tr th:only-of-type {\n",
       "        vertical-align: middle;\n",
       "    }\n",
       "\n",
       "    .dataframe tbody tr th {\n",
       "        vertical-align: top;\n",
       "    }\n",
       "\n",
       "    .dataframe thead th {\n",
       "        text-align: right;\n",
       "    }\n",
       "</style>\n",
       "<table border=\"1\" class=\"dataframe\">\n",
       "  <thead>\n",
       "    <tr style=\"text-align: right;\">\n",
       "      <th></th>\n",
       "      <th>order_id</th>\n",
       "      <th>customer_id</th>\n",
       "      <th>order_status</th>\n",
       "      <th>order_purchase_timestamp</th>\n",
       "      <th>order_approved_at</th>\n",
       "      <th>order_delivered_carrier_date</th>\n",
       "      <th>order_delivered_customer_date</th>\n",
       "      <th>order_estimated_delivery_date</th>\n",
       "    </tr>\n",
       "  </thead>\n",
       "  <tbody>\n",
       "    <tr>\n",
       "      <th>6</th>\n",
       "      <td>136cce7faa42fdb2cefd53fdc79a6098</td>\n",
       "      <td>ed0271e0b7da060a393796590e7b737a</td>\n",
       "      <td>invoiced</td>\n",
       "      <td>2017-04-11 12:22:08</td>\n",
       "      <td>2017-04-13 13:25:17</td>\n",
       "      <td>NaN</td>\n",
       "      <td>NaN</td>\n",
       "      <td>2017-05-09 00:00:00</td>\n",
       "    </tr>\n",
       "    <tr>\n",
       "      <th>103</th>\n",
       "      <td>0760a852e4e9d89eb77bf631eaaf1c84</td>\n",
       "      <td>d2a79636084590b7465af8ab374a8cf5</td>\n",
       "      <td>invoiced</td>\n",
       "      <td>2018-08-03 17:44:42</td>\n",
       "      <td>2018-08-07 06:15:14</td>\n",
       "      <td>NaN</td>\n",
       "      <td>NaN</td>\n",
       "      <td>2018-08-21 00:00:00</td>\n",
       "    </tr>\n",
       "    <tr>\n",
       "      <th>455</th>\n",
       "      <td>38b7efdf33dd5561f4f5d4f6e07b0414</td>\n",
       "      <td>021e84751ba0ead75b6d314a6ead88d9</td>\n",
       "      <td>invoiced</td>\n",
       "      <td>2017-08-01 18:17:41</td>\n",
       "      <td>2017-08-01 18:32:30</td>\n",
       "      <td>NaN</td>\n",
       "      <td>NaN</td>\n",
       "      <td>2017-08-28 00:00:00</td>\n",
       "    </tr>\n",
       "    <tr>\n",
       "      <th>1833</th>\n",
       "      <td>51b0dccc8596ce37a930dff2d63a10a2</td>\n",
       "      <td>31bf1057b00f14804278590bbac18b1b</td>\n",
       "      <td>invoiced</td>\n",
       "      <td>2017-05-05 22:34:48</td>\n",
       "      <td>2017-05-05 22:45:12</td>\n",
       "      <td>NaN</td>\n",
       "      <td>NaN</td>\n",
       "      <td>2017-06-06 00:00:00</td>\n",
       "    </tr>\n",
       "    <tr>\n",
       "      <th>2116</th>\n",
       "      <td>5504eaa5a86eb25fa666cf2e6b96c701</td>\n",
       "      <td>a30be38e1ed0ffb39b318bf1d15e98d9</td>\n",
       "      <td>invoiced</td>\n",
       "      <td>2017-11-29 08:33:06</td>\n",
       "      <td>2017-11-29 08:56:23</td>\n",
       "      <td>NaN</td>\n",
       "      <td>NaN</td>\n",
       "      <td>2017-12-20 00:00:00</td>\n",
       "    </tr>\n",
       "  </tbody>\n",
       "</table>\n",
       "</div>"
      ],
      "text/plain": [
       "                              order_id                       customer_id  \\\n",
       "6     136cce7faa42fdb2cefd53fdc79a6098  ed0271e0b7da060a393796590e7b737a   \n",
       "103   0760a852e4e9d89eb77bf631eaaf1c84  d2a79636084590b7465af8ab374a8cf5   \n",
       "455   38b7efdf33dd5561f4f5d4f6e07b0414  021e84751ba0ead75b6d314a6ead88d9   \n",
       "1833  51b0dccc8596ce37a930dff2d63a10a2  31bf1057b00f14804278590bbac18b1b   \n",
       "2116  5504eaa5a86eb25fa666cf2e6b96c701  a30be38e1ed0ffb39b318bf1d15e98d9   \n",
       "\n",
       "     order_status order_purchase_timestamp    order_approved_at  \\\n",
       "6        invoiced      2017-04-11 12:22:08  2017-04-13 13:25:17   \n",
       "103      invoiced      2018-08-03 17:44:42  2018-08-07 06:15:14   \n",
       "455      invoiced      2017-08-01 18:17:41  2017-08-01 18:32:30   \n",
       "1833     invoiced      2017-05-05 22:34:48  2017-05-05 22:45:12   \n",
       "2116     invoiced      2017-11-29 08:33:06  2017-11-29 08:56:23   \n",
       "\n",
       "     order_delivered_carrier_date order_delivered_customer_date  \\\n",
       "6                             NaN                           NaN   \n",
       "103                           NaN                           NaN   \n",
       "455                           NaN                           NaN   \n",
       "1833                          NaN                           NaN   \n",
       "2116                          NaN                           NaN   \n",
       "\n",
       "     order_estimated_delivery_date  \n",
       "6              2017-05-09 00:00:00  \n",
       "103            2018-08-21 00:00:00  \n",
       "455            2017-08-28 00:00:00  \n",
       "1833           2017-06-06 00:00:00  \n",
       "2116           2017-12-20 00:00:00  "
      ]
     },
     "execution_count": 25,
     "metadata": {},
     "output_type": "execute_result"
    }
   ],
   "source": [
    "invoiced_order = order.query('order_status == \"invoiced\"')\n",
    "invoiced_order.head()"
   ]
  },
  {
   "cell_type": "code",
   "execution_count": 26,
   "metadata": {},
   "outputs": [
    {
     "data": {
      "text/html": [
       "<div>\n",
       "<style scoped>\n",
       "    .dataframe tbody tr th:only-of-type {\n",
       "        vertical-align: middle;\n",
       "    }\n",
       "\n",
       "    .dataframe tbody tr th {\n",
       "        vertical-align: top;\n",
       "    }\n",
       "\n",
       "    .dataframe thead th {\n",
       "        text-align: right;\n",
       "    }\n",
       "</style>\n",
       "<table border=\"1\" class=\"dataframe\">\n",
       "  <thead>\n",
       "    <tr style=\"text-align: right;\">\n",
       "      <th></th>\n",
       "      <th>order_id</th>\n",
       "      <th>customer_id</th>\n",
       "      <th>order_status</th>\n",
       "      <th>order_purchase_timestamp</th>\n",
       "      <th>order_approved_at</th>\n",
       "      <th>order_delivered_carrier_date</th>\n",
       "      <th>order_delivered_customer_date</th>\n",
       "      <th>order_estimated_delivery_date</th>\n",
       "    </tr>\n",
       "  </thead>\n",
       "  <tbody>\n",
       "    <tr>\n",
       "      <th>128</th>\n",
       "      <td>15bed8e2fec7fdbadb186b57c46c92f2</td>\n",
       "      <td>f3f0e613e0bdb9c7cee75504f0f90679</td>\n",
       "      <td>processing</td>\n",
       "      <td>2017-09-03 14:22:03</td>\n",
       "      <td>2017-09-03 14:30:09</td>\n",
       "      <td>NaN</td>\n",
       "      <td>NaN</td>\n",
       "      <td>2017-10-03 00:00:00</td>\n",
       "    </tr>\n",
       "    <tr>\n",
       "      <th>324</th>\n",
       "      <td>d3c8851a6651eeff2f73b0e011ac45d0</td>\n",
       "      <td>957f8e082185574de25992dc659ebbc0</td>\n",
       "      <td>processing</td>\n",
       "      <td>2016-10-05 22:44:13</td>\n",
       "      <td>2016-10-06 15:51:05</td>\n",
       "      <td>NaN</td>\n",
       "      <td>NaN</td>\n",
       "      <td>2016-12-09 00:00:00</td>\n",
       "    </tr>\n",
       "    <tr>\n",
       "      <th>741</th>\n",
       "      <td>6a6c7d523fd59eb5bbefc007331af717</td>\n",
       "      <td>d954782ec6c0e911292c8a80757ef28d</td>\n",
       "      <td>processing</td>\n",
       "      <td>2017-11-24 20:09:33</td>\n",
       "      <td>2017-11-24 23:15:15</td>\n",
       "      <td>NaN</td>\n",
       "      <td>NaN</td>\n",
       "      <td>2017-12-20 00:00:00</td>\n",
       "    </tr>\n",
       "    <tr>\n",
       "      <th>1192</th>\n",
       "      <td>745e1d4a7f8c4b548881788d4113bb1d</td>\n",
       "      <td>7198d7088442e4ddfe553353d8ddc957</td>\n",
       "      <td>processing</td>\n",
       "      <td>2017-11-17 06:34:36</td>\n",
       "      <td>2017-11-18 02:15:40</td>\n",
       "      <td>NaN</td>\n",
       "      <td>NaN</td>\n",
       "      <td>2017-12-12 00:00:00</td>\n",
       "    </tr>\n",
       "    <tr>\n",
       "      <th>1516</th>\n",
       "      <td>1d52ba7197c7acebbb4f826f6585536f</td>\n",
       "      <td>c9c7fe860d602373a9e93f8bfe9d877a</td>\n",
       "      <td>processing</td>\n",
       "      <td>2017-02-13 18:32:55</td>\n",
       "      <td>2017-02-13 18:43:55</td>\n",
       "      <td>NaN</td>\n",
       "      <td>NaN</td>\n",
       "      <td>2017-04-04 00:00:00</td>\n",
       "    </tr>\n",
       "  </tbody>\n",
       "</table>\n",
       "</div>"
      ],
      "text/plain": [
       "                              order_id                       customer_id  \\\n",
       "128   15bed8e2fec7fdbadb186b57c46c92f2  f3f0e613e0bdb9c7cee75504f0f90679   \n",
       "324   d3c8851a6651eeff2f73b0e011ac45d0  957f8e082185574de25992dc659ebbc0   \n",
       "741   6a6c7d523fd59eb5bbefc007331af717  d954782ec6c0e911292c8a80757ef28d   \n",
       "1192  745e1d4a7f8c4b548881788d4113bb1d  7198d7088442e4ddfe553353d8ddc957   \n",
       "1516  1d52ba7197c7acebbb4f826f6585536f  c9c7fe860d602373a9e93f8bfe9d877a   \n",
       "\n",
       "     order_status order_purchase_timestamp    order_approved_at  \\\n",
       "128    processing      2017-09-03 14:22:03  2017-09-03 14:30:09   \n",
       "324    processing      2016-10-05 22:44:13  2016-10-06 15:51:05   \n",
       "741    processing      2017-11-24 20:09:33  2017-11-24 23:15:15   \n",
       "1192   processing      2017-11-17 06:34:36  2017-11-18 02:15:40   \n",
       "1516   processing      2017-02-13 18:32:55  2017-02-13 18:43:55   \n",
       "\n",
       "     order_delivered_carrier_date order_delivered_customer_date  \\\n",
       "128                           NaN                           NaN   \n",
       "324                           NaN                           NaN   \n",
       "741                           NaN                           NaN   \n",
       "1192                          NaN                           NaN   \n",
       "1516                          NaN                           NaN   \n",
       "\n",
       "     order_estimated_delivery_date  \n",
       "128            2017-10-03 00:00:00  \n",
       "324            2016-12-09 00:00:00  \n",
       "741            2017-12-20 00:00:00  \n",
       "1192           2017-12-12 00:00:00  \n",
       "1516           2017-04-04 00:00:00  "
      ]
     },
     "execution_count": 26,
     "metadata": {},
     "output_type": "execute_result"
    }
   ],
   "source": [
    "processing_order = order.query(\"order_status == 'processing'\")\n",
    "processing_order.head()"
   ]
  },
  {
   "cell_type": "code",
   "execution_count": 27,
   "metadata": {},
   "outputs": [
    {
     "data": {
      "text/html": [
       "<div>\n",
       "<style scoped>\n",
       "    .dataframe tbody tr th:only-of-type {\n",
       "        vertical-align: middle;\n",
       "    }\n",
       "\n",
       "    .dataframe tbody tr th {\n",
       "        vertical-align: top;\n",
       "    }\n",
       "\n",
       "    .dataframe thead th {\n",
       "        text-align: right;\n",
       "    }\n",
       "</style>\n",
       "<table border=\"1\" class=\"dataframe\">\n",
       "  <thead>\n",
       "    <tr style=\"text-align: right;\">\n",
       "      <th></th>\n",
       "      <th>order_id</th>\n",
       "      <th>customer_id</th>\n",
       "      <th>order_status</th>\n",
       "      <th>order_purchase_timestamp</th>\n",
       "      <th>order_approved_at</th>\n",
       "      <th>order_delivered_carrier_date</th>\n",
       "      <th>order_delivered_customer_date</th>\n",
       "      <th>order_estimated_delivery_date</th>\n",
       "    </tr>\n",
       "  </thead>\n",
       "  <tbody>\n",
       "    <tr>\n",
       "      <th>7434</th>\n",
       "      <td>b5359909123fa03c50bdb0cfed07f098</td>\n",
       "      <td>438449d4af8980d107bf04571413a8e7</td>\n",
       "      <td>created</td>\n",
       "      <td>2017-12-05 01:07:52</td>\n",
       "      <td>NaN</td>\n",
       "      <td>NaN</td>\n",
       "      <td>NaN</td>\n",
       "      <td>2018-01-11 00:00:00</td>\n",
       "    </tr>\n",
       "    <tr>\n",
       "      <th>9238</th>\n",
       "      <td>dba5062fbda3af4fb6c33b1e040ca38f</td>\n",
       "      <td>964a6df3d9bdf60fe3e7b8bb69ed893a</td>\n",
       "      <td>created</td>\n",
       "      <td>2018-02-09 17:21:04</td>\n",
       "      <td>NaN</td>\n",
       "      <td>NaN</td>\n",
       "      <td>NaN</td>\n",
       "      <td>2018-03-07 00:00:00</td>\n",
       "    </tr>\n",
       "    <tr>\n",
       "      <th>21441</th>\n",
       "      <td>7a4df5d8cff4090e541401a20a22bb80</td>\n",
       "      <td>725e9c75605414b21fd8c8d5a1c2f1d6</td>\n",
       "      <td>created</td>\n",
       "      <td>2017-11-25 11:10:33</td>\n",
       "      <td>NaN</td>\n",
       "      <td>NaN</td>\n",
       "      <td>NaN</td>\n",
       "      <td>2017-12-12 00:00:00</td>\n",
       "    </tr>\n",
       "    <tr>\n",
       "      <th>55086</th>\n",
       "      <td>35de4050331c6c644cddc86f4f2d0d64</td>\n",
       "      <td>4ee64f4bfc542546f422da0aeb462853</td>\n",
       "      <td>created</td>\n",
       "      <td>2017-12-05 01:07:58</td>\n",
       "      <td>NaN</td>\n",
       "      <td>NaN</td>\n",
       "      <td>NaN</td>\n",
       "      <td>2018-01-08 00:00:00</td>\n",
       "    </tr>\n",
       "    <tr>\n",
       "      <th>58958</th>\n",
       "      <td>90ab3e7d52544ec7bc3363c82689965f</td>\n",
       "      <td>7d61b9f4f216052ba664f22e9c504ef1</td>\n",
       "      <td>created</td>\n",
       "      <td>2017-11-06 13:12:34</td>\n",
       "      <td>NaN</td>\n",
       "      <td>NaN</td>\n",
       "      <td>NaN</td>\n",
       "      <td>2017-12-01 00:00:00</td>\n",
       "    </tr>\n",
       "  </tbody>\n",
       "</table>\n",
       "</div>"
      ],
      "text/plain": [
       "                               order_id                       customer_id  \\\n",
       "7434   b5359909123fa03c50bdb0cfed07f098  438449d4af8980d107bf04571413a8e7   \n",
       "9238   dba5062fbda3af4fb6c33b1e040ca38f  964a6df3d9bdf60fe3e7b8bb69ed893a   \n",
       "21441  7a4df5d8cff4090e541401a20a22bb80  725e9c75605414b21fd8c8d5a1c2f1d6   \n",
       "55086  35de4050331c6c644cddc86f4f2d0d64  4ee64f4bfc542546f422da0aeb462853   \n",
       "58958  90ab3e7d52544ec7bc3363c82689965f  7d61b9f4f216052ba664f22e9c504ef1   \n",
       "\n",
       "      order_status order_purchase_timestamp order_approved_at  \\\n",
       "7434       created      2017-12-05 01:07:52               NaN   \n",
       "9238       created      2018-02-09 17:21:04               NaN   \n",
       "21441      created      2017-11-25 11:10:33               NaN   \n",
       "55086      created      2017-12-05 01:07:58               NaN   \n",
       "58958      created      2017-11-06 13:12:34               NaN   \n",
       "\n",
       "      order_delivered_carrier_date order_delivered_customer_date  \\\n",
       "7434                           NaN                           NaN   \n",
       "9238                           NaN                           NaN   \n",
       "21441                          NaN                           NaN   \n",
       "55086                          NaN                           NaN   \n",
       "58958                          NaN                           NaN   \n",
       "\n",
       "      order_estimated_delivery_date  \n",
       "7434            2018-01-11 00:00:00  \n",
       "9238            2018-03-07 00:00:00  \n",
       "21441           2017-12-12 00:00:00  \n",
       "55086           2018-01-08 00:00:00  \n",
       "58958           2017-12-01 00:00:00  "
      ]
     },
     "execution_count": 27,
     "metadata": {},
     "output_type": "execute_result"
    }
   ],
   "source": [
    "created_order = order.query('order_status == \"created\"')\n",
    "created_order"
   ]
  },
  {
   "cell_type": "markdown",
   "metadata": {},
   "source": [
    "刚刚创建的订单，还没有确认的订单"
   ]
  },
  {
   "cell_type": "code",
   "execution_count": 28,
   "metadata": {},
   "outputs": [
    {
     "data": {
      "text/html": [
       "<div>\n",
       "<style scoped>\n",
       "    .dataframe tbody tr th:only-of-type {\n",
       "        vertical-align: middle;\n",
       "    }\n",
       "\n",
       "    .dataframe tbody tr th {\n",
       "        vertical-align: top;\n",
       "    }\n",
       "\n",
       "    .dataframe thead th {\n",
       "        text-align: right;\n",
       "    }\n",
       "</style>\n",
       "<table border=\"1\" class=\"dataframe\">\n",
       "  <thead>\n",
       "    <tr style=\"text-align: right;\">\n",
       "      <th></th>\n",
       "      <th>order_id</th>\n",
       "      <th>customer_id</th>\n",
       "      <th>order_status</th>\n",
       "      <th>order_purchase_timestamp</th>\n",
       "      <th>order_approved_at</th>\n",
       "      <th>order_delivered_carrier_date</th>\n",
       "      <th>order_delivered_customer_date</th>\n",
       "      <th>order_estimated_delivery_date</th>\n",
       "    </tr>\n",
       "  </thead>\n",
       "  <tbody>\n",
       "    <tr>\n",
       "      <th>44897</th>\n",
       "      <td>a2e4c44360b4a57bdff22f3a4630c173</td>\n",
       "      <td>8886130db0ea6e9e70ba0b03d7c0d286</td>\n",
       "      <td>approved</td>\n",
       "      <td>2017-02-06 20:18:17</td>\n",
       "      <td>2017-02-06 20:30:19</td>\n",
       "      <td>NaN</td>\n",
       "      <td>NaN</td>\n",
       "      <td>2017-03-01 00:00:00</td>\n",
       "    </tr>\n",
       "    <tr>\n",
       "      <th>88457</th>\n",
       "      <td>132f1e724165a07f6362532bfb97486e</td>\n",
       "      <td>b2191912d8ad6eac2e4dc3b6e1459515</td>\n",
       "      <td>approved</td>\n",
       "      <td>2017-04-25 01:25:34</td>\n",
       "      <td>2017-04-30 20:32:41</td>\n",
       "      <td>NaN</td>\n",
       "      <td>NaN</td>\n",
       "      <td>2017-05-22 00:00:00</td>\n",
       "    </tr>\n",
       "  </tbody>\n",
       "</table>\n",
       "</div>"
      ],
      "text/plain": [
       "                               order_id                       customer_id  \\\n",
       "44897  a2e4c44360b4a57bdff22f3a4630c173  8886130db0ea6e9e70ba0b03d7c0d286   \n",
       "88457  132f1e724165a07f6362532bfb97486e  b2191912d8ad6eac2e4dc3b6e1459515   \n",
       "\n",
       "      order_status order_purchase_timestamp    order_approved_at  \\\n",
       "44897     approved      2017-02-06 20:18:17  2017-02-06 20:30:19   \n",
       "88457     approved      2017-04-25 01:25:34  2017-04-30 20:32:41   \n",
       "\n",
       "      order_delivered_carrier_date order_delivered_customer_date  \\\n",
       "44897                          NaN                           NaN   \n",
       "88457                          NaN                           NaN   \n",
       "\n",
       "      order_estimated_delivery_date  \n",
       "44897           2017-03-01 00:00:00  \n",
       "88457           2017-05-22 00:00:00  "
      ]
     },
     "execution_count": 28,
     "metadata": {},
     "output_type": "execute_result"
    }
   ],
   "source": [
    "approved_order = order.query('order_status == \"approved\"')\n",
    "approved_order"
   ]
  },
  {
   "cell_type": "markdown",
   "metadata": {},
   "source": [
    "刚刚确认订单，还没有出库和安排投递的"
   ]
  },
  {
   "cell_type": "code",
   "execution_count": 29,
   "metadata": {},
   "outputs": [],
   "source": [
    "order.order_approved_at = pd.to_datetime(order.order_approved_at)\n",
    "order[\"year\"] = order.order_approved_at.dt.year"
   ]
  },
  {
   "cell_type": "code",
   "execution_count": 30,
   "metadata": {},
   "outputs": [],
   "source": [
    "#更改year列的数据类型\n",
    "order[\"order_date\"] = pd.to_datetime(order.order_approved_at,format= \"%Y%m%d\")"
   ]
  },
  {
   "cell_type": "code",
   "execution_count": 31,
   "metadata": {},
   "outputs": [
    {
     "data": {
      "text/plain": [
       "count                   99281\n",
       "unique                  90733\n",
       "top       2018-02-27 04:31:10\n",
       "freq                        9\n",
       "first     2016-09-15 12:16:38\n",
       "last      2018-09-03 17:40:06\n",
       "Name: order_approved_at, dtype: object"
      ]
     },
     "execution_count": 31,
     "metadata": {},
     "output_type": "execute_result"
    }
   ],
   "source": [
    "order.order_approved_at.describe()"
   ]
  },
  {
   "cell_type": "markdown",
   "metadata": {},
   "source": [
    "最早的订单日期是，2016年9月15日；\n",
    "\n",
    "最晚的订单日期是，2018年9月3日，\n",
    "\n",
    "由此看来，2016年与2018年的数据都不是自然年从1月1日到12月31日的数据。\n"
   ]
  },
  {
   "cell_type": "code",
   "execution_count": 32,
   "metadata": {},
   "outputs": [],
   "source": [
    "order_copy = order.copy()"
   ]
  },
  {
   "cell_type": "code",
   "execution_count": 33,
   "metadata": {},
   "outputs": [
    {
     "data": {
      "text/html": [
       "<div>\n",
       "<style scoped>\n",
       "    .dataframe tbody tr th:only-of-type {\n",
       "        vertical-align: middle;\n",
       "    }\n",
       "\n",
       "    .dataframe tbody tr th {\n",
       "        vertical-align: top;\n",
       "    }\n",
       "\n",
       "    .dataframe thead th {\n",
       "        text-align: right;\n",
       "    }\n",
       "</style>\n",
       "<table border=\"1\" class=\"dataframe\">\n",
       "  <thead>\n",
       "    <tr style=\"text-align: right;\">\n",
       "      <th></th>\n",
       "      <th>order_id</th>\n",
       "      <th>customer_id</th>\n",
       "      <th>order_status</th>\n",
       "      <th>order_purchase_timestamp</th>\n",
       "      <th>order_approved_at</th>\n",
       "      <th>order_delivered_carrier_date</th>\n",
       "      <th>order_delivered_customer_date</th>\n",
       "      <th>order_estimated_delivery_date</th>\n",
       "      <th>year</th>\n",
       "      <th>order_date</th>\n",
       "    </tr>\n",
       "  </thead>\n",
       "  <tbody>\n",
       "    <tr>\n",
       "      <th>0</th>\n",
       "      <td>e481f51cbdc54678b7cc49136f2d6af7</td>\n",
       "      <td>9ef432eb6251297304e76186b10a928d</td>\n",
       "      <td>delivered</td>\n",
       "      <td>2017-10-02 10:56:33</td>\n",
       "      <td>2017-10-02 11:07:15</td>\n",
       "      <td>2017-10-04 19:55:00</td>\n",
       "      <td>2017-10-10 21:25:13</td>\n",
       "      <td>2017-10-18 00:00:00</td>\n",
       "      <td>2017.0</td>\n",
       "      <td>2017-10-02 11:07:15</td>\n",
       "    </tr>\n",
       "    <tr>\n",
       "      <th>1</th>\n",
       "      <td>53cdb2fc8bc7dce0b6741e2150273451</td>\n",
       "      <td>b0830fb4747a6c6d20dea0b8c802d7ef</td>\n",
       "      <td>delivered</td>\n",
       "      <td>2018-07-24 20:41:37</td>\n",
       "      <td>2018-07-26 03:24:27</td>\n",
       "      <td>2018-07-26 14:31:00</td>\n",
       "      <td>2018-08-07 15:27:45</td>\n",
       "      <td>2018-08-13 00:00:00</td>\n",
       "      <td>2018.0</td>\n",
       "      <td>2018-07-26 03:24:27</td>\n",
       "    </tr>\n",
       "    <tr>\n",
       "      <th>2</th>\n",
       "      <td>47770eb9100c2d0c44946d9cf07ec65d</td>\n",
       "      <td>41ce2a54c0b03bf3443c3d931a367089</td>\n",
       "      <td>delivered</td>\n",
       "      <td>2018-08-08 08:38:49</td>\n",
       "      <td>2018-08-08 08:55:23</td>\n",
       "      <td>2018-08-08 13:50:00</td>\n",
       "      <td>2018-08-17 18:06:29</td>\n",
       "      <td>2018-09-04 00:00:00</td>\n",
       "      <td>2018.0</td>\n",
       "      <td>2018-08-08 08:55:23</td>\n",
       "    </tr>\n",
       "    <tr>\n",
       "      <th>3</th>\n",
       "      <td>949d5b44dbf5de918fe9c16f97b45f8a</td>\n",
       "      <td>f88197465ea7920adcdbec7375364d82</td>\n",
       "      <td>delivered</td>\n",
       "      <td>2017-11-18 19:28:06</td>\n",
       "      <td>2017-11-18 19:45:59</td>\n",
       "      <td>2017-11-22 13:39:59</td>\n",
       "      <td>2017-12-02 00:28:42</td>\n",
       "      <td>2017-12-15 00:00:00</td>\n",
       "      <td>2017.0</td>\n",
       "      <td>2017-11-18 19:45:59</td>\n",
       "    </tr>\n",
       "    <tr>\n",
       "      <th>4</th>\n",
       "      <td>ad21c59c0840e6cb83a9ceb5573f8159</td>\n",
       "      <td>8ab97904e6daea8866dbdbc4fb7aad2c</td>\n",
       "      <td>delivered</td>\n",
       "      <td>2018-02-13 21:18:39</td>\n",
       "      <td>2018-02-13 22:20:29</td>\n",
       "      <td>2018-02-14 19:46:34</td>\n",
       "      <td>2018-02-16 18:17:02</td>\n",
       "      <td>2018-02-26 00:00:00</td>\n",
       "      <td>2018.0</td>\n",
       "      <td>2018-02-13 22:20:29</td>\n",
       "    </tr>\n",
       "  </tbody>\n",
       "</table>\n",
       "</div>"
      ],
      "text/plain": [
       "                           order_id                       customer_id  \\\n",
       "0  e481f51cbdc54678b7cc49136f2d6af7  9ef432eb6251297304e76186b10a928d   \n",
       "1  53cdb2fc8bc7dce0b6741e2150273451  b0830fb4747a6c6d20dea0b8c802d7ef   \n",
       "2  47770eb9100c2d0c44946d9cf07ec65d  41ce2a54c0b03bf3443c3d931a367089   \n",
       "3  949d5b44dbf5de918fe9c16f97b45f8a  f88197465ea7920adcdbec7375364d82   \n",
       "4  ad21c59c0840e6cb83a9ceb5573f8159  8ab97904e6daea8866dbdbc4fb7aad2c   \n",
       "\n",
       "  order_status order_purchase_timestamp   order_approved_at  \\\n",
       "0    delivered      2017-10-02 10:56:33 2017-10-02 11:07:15   \n",
       "1    delivered      2018-07-24 20:41:37 2018-07-26 03:24:27   \n",
       "2    delivered      2018-08-08 08:38:49 2018-08-08 08:55:23   \n",
       "3    delivered      2017-11-18 19:28:06 2017-11-18 19:45:59   \n",
       "4    delivered      2018-02-13 21:18:39 2018-02-13 22:20:29   \n",
       "\n",
       "  order_delivered_carrier_date order_delivered_customer_date  \\\n",
       "0          2017-10-04 19:55:00           2017-10-10 21:25:13   \n",
       "1          2018-07-26 14:31:00           2018-08-07 15:27:45   \n",
       "2          2018-08-08 13:50:00           2018-08-17 18:06:29   \n",
       "3          2017-11-22 13:39:59           2017-12-02 00:28:42   \n",
       "4          2018-02-14 19:46:34           2018-02-16 18:17:02   \n",
       "\n",
       "  order_estimated_delivery_date    year          order_date  \n",
       "0           2017-10-18 00:00:00  2017.0 2017-10-02 11:07:15  \n",
       "1           2018-08-13 00:00:00  2018.0 2018-07-26 03:24:27  \n",
       "2           2018-09-04 00:00:00  2018.0 2018-08-08 08:55:23  \n",
       "3           2017-12-15 00:00:00  2017.0 2017-11-18 19:45:59  \n",
       "4           2018-02-26 00:00:00  2018.0 2018-02-13 22:20:29  "
      ]
     },
     "execution_count": 33,
     "metadata": {},
     "output_type": "execute_result"
    }
   ],
   "source": [
    "order_delivered = order_copy.query(\"order_status == 'delivered'\")\n",
    "order_delivered.head()"
   ]
  },
  {
   "cell_type": "code",
   "execution_count": 34,
   "metadata": {},
   "outputs": [],
   "source": [
    "order_delivered.to_csv(\"order_delivered.csv\",index = False)"
   ]
  },
  {
   "cell_type": "markdown",
   "metadata": {},
   "source": [
    "#### product_translation 数据集"
   ]
  },
  {
   "cell_type": "code",
   "execution_count": 35,
   "metadata": {},
   "outputs": [
    {
     "data": {
      "text/html": [
       "<div>\n",
       "<style scoped>\n",
       "    .dataframe tbody tr th:only-of-type {\n",
       "        vertical-align: middle;\n",
       "    }\n",
       "\n",
       "    .dataframe tbody tr th {\n",
       "        vertical-align: top;\n",
       "    }\n",
       "\n",
       "    .dataframe thead th {\n",
       "        text-align: right;\n",
       "    }\n",
       "</style>\n",
       "<table border=\"1\" class=\"dataframe\">\n",
       "  <thead>\n",
       "    <tr style=\"text-align: right;\">\n",
       "      <th></th>\n",
       "      <th>product_category_name</th>\n",
       "      <th>product_category_name_english</th>\n",
       "    </tr>\n",
       "  </thead>\n",
       "  <tbody>\n",
       "    <tr>\n",
       "      <th>0</th>\n",
       "      <td>beleza_saude</td>\n",
       "      <td>health_beauty</td>\n",
       "    </tr>\n",
       "    <tr>\n",
       "      <th>1</th>\n",
       "      <td>informatica_acessorios</td>\n",
       "      <td>computers_accessories</td>\n",
       "    </tr>\n",
       "    <tr>\n",
       "      <th>2</th>\n",
       "      <td>automotivo</td>\n",
       "      <td>auto</td>\n",
       "    </tr>\n",
       "    <tr>\n",
       "      <th>3</th>\n",
       "      <td>cama_mesa_banho</td>\n",
       "      <td>bed_bath_table</td>\n",
       "    </tr>\n",
       "    <tr>\n",
       "      <th>4</th>\n",
       "      <td>moveis_decoracao</td>\n",
       "      <td>furniture_decor</td>\n",
       "    </tr>\n",
       "  </tbody>\n",
       "</table>\n",
       "</div>"
      ],
      "text/plain": [
       "    product_category_name product_category_name_english\n",
       "0            beleza_saude                 health_beauty\n",
       "1  informatica_acessorios         computers_accessories\n",
       "2              automotivo                          auto\n",
       "3         cama_mesa_banho                bed_bath_table\n",
       "4        moveis_decoracao               furniture_decor"
      ]
     },
     "execution_count": 35,
     "metadata": {},
     "output_type": "execute_result"
    }
   ],
   "source": [
    "product_translation.head()"
   ]
  },
  {
   "cell_type": "code",
   "execution_count": 36,
   "metadata": {},
   "outputs": [
    {
     "name": "stdout",
     "output_type": "stream",
     "text": [
      "<class 'pandas.core.frame.DataFrame'>\n",
      "RangeIndex: 71 entries, 0 to 70\n",
      "Data columns (total 2 columns):\n",
      "product_category_name            71 non-null object\n",
      "product_category_name_english    71 non-null object\n",
      "dtypes: object(2)\n",
      "memory usage: 1.2+ KB\n"
     ]
    }
   ],
   "source": [
    "product_translation.info()"
   ]
  },
  {
   "cell_type": "markdown",
   "metadata": {},
   "source": [
    "#### payment 数据集"
   ]
  },
  {
   "cell_type": "markdown",
   "metadata": {},
   "source": [
    "{order_id} - unique identifier of an order.\n",
    "\n",
    "{payment_sequential}  - a customer may pay an order with more than one payment method. If he does so, a sequence will be created to accommodate all payments.\n",
    "\n",
    "{payment_type} - method of payment chosen by the customer.\n",
    "\n",
    "{payment_installments} - number of installments chosen by the customer.\n",
    "\n",
    "{payment_value} - transaction value."
   ]
  },
  {
   "cell_type": "code",
   "execution_count": 37,
   "metadata": {},
   "outputs": [
    {
     "data": {
      "text/html": [
       "<div>\n",
       "<style scoped>\n",
       "    .dataframe tbody tr th:only-of-type {\n",
       "        vertical-align: middle;\n",
       "    }\n",
       "\n",
       "    .dataframe tbody tr th {\n",
       "        vertical-align: top;\n",
       "    }\n",
       "\n",
       "    .dataframe thead th {\n",
       "        text-align: right;\n",
       "    }\n",
       "</style>\n",
       "<table border=\"1\" class=\"dataframe\">\n",
       "  <thead>\n",
       "    <tr style=\"text-align: right;\">\n",
       "      <th></th>\n",
       "      <th>order_id</th>\n",
       "      <th>payment_sequential</th>\n",
       "      <th>payment_type</th>\n",
       "      <th>payment_installments</th>\n",
       "      <th>payment_value</th>\n",
       "    </tr>\n",
       "  </thead>\n",
       "  <tbody>\n",
       "    <tr>\n",
       "      <th>0</th>\n",
       "      <td>b81ef226f3fe1789b1e8b2acac839d17</td>\n",
       "      <td>1</td>\n",
       "      <td>credit_card</td>\n",
       "      <td>8</td>\n",
       "      <td>99.33</td>\n",
       "    </tr>\n",
       "    <tr>\n",
       "      <th>1</th>\n",
       "      <td>a9810da82917af2d9aefd1278f1dcfa0</td>\n",
       "      <td>1</td>\n",
       "      <td>credit_card</td>\n",
       "      <td>1</td>\n",
       "      <td>24.39</td>\n",
       "    </tr>\n",
       "    <tr>\n",
       "      <th>2</th>\n",
       "      <td>25e8ea4e93396b6fa0d3dd708e76c1bd</td>\n",
       "      <td>1</td>\n",
       "      <td>credit_card</td>\n",
       "      <td>1</td>\n",
       "      <td>65.71</td>\n",
       "    </tr>\n",
       "    <tr>\n",
       "      <th>3</th>\n",
       "      <td>ba78997921bbcdc1373bb41e913ab953</td>\n",
       "      <td>1</td>\n",
       "      <td>credit_card</td>\n",
       "      <td>8</td>\n",
       "      <td>107.78</td>\n",
       "    </tr>\n",
       "    <tr>\n",
       "      <th>4</th>\n",
       "      <td>42fdf880ba16b47b59251dd489d4441a</td>\n",
       "      <td>1</td>\n",
       "      <td>credit_card</td>\n",
       "      <td>2</td>\n",
       "      <td>128.45</td>\n",
       "    </tr>\n",
       "  </tbody>\n",
       "</table>\n",
       "</div>"
      ],
      "text/plain": [
       "                           order_id  payment_sequential payment_type  \\\n",
       "0  b81ef226f3fe1789b1e8b2acac839d17                   1  credit_card   \n",
       "1  a9810da82917af2d9aefd1278f1dcfa0                   1  credit_card   \n",
       "2  25e8ea4e93396b6fa0d3dd708e76c1bd                   1  credit_card   \n",
       "3  ba78997921bbcdc1373bb41e913ab953                   1  credit_card   \n",
       "4  42fdf880ba16b47b59251dd489d4441a                   1  credit_card   \n",
       "\n",
       "   payment_installments  payment_value  \n",
       "0                     8          99.33  \n",
       "1                     1          24.39  \n",
       "2                     1          65.71  \n",
       "3                     8         107.78  \n",
       "4                     2         128.45  "
      ]
     },
     "execution_count": 37,
     "metadata": {},
     "output_type": "execute_result"
    }
   ],
   "source": [
    "payment.head()"
   ]
  },
  {
   "cell_type": "code",
   "execution_count": 38,
   "metadata": {},
   "outputs": [
    {
     "data": {
      "text/plain": [
       "Text(0.5, 1.0, 'Different Payment')"
      ]
     },
     "execution_count": 38,
     "metadata": {},
     "output_type": "execute_result"
    },
    {
     "data": {
      "image/png": "[encoded data removed]",
      "text/plain": [
       "<Figure size 432x288 with 1 Axes>"
      ]
     },
     "metadata": {
      "needs_background": "light"
     },
     "output_type": "display_data"
    }
   ],
   "source": [
    "plot(payment,\"payment_type\",\"bar\")\n",
    "\n",
    "plt.ylabel(\"Count\")\n",
    "plt.title(\"Different Payment\")"
   ]
  },
  {
   "cell_type": "code",
   "execution_count": 39,
   "metadata": {},
   "outputs": [
    {
     "data": {
      "image/png": "[encoded data removed]",
      "text/plain": [
       "<Figure size 432x288 with 1 Axes>"
      ]
     },
     "metadata": {
      "needs_background": "light"
     },
     "output_type": "display_data"
    }
   ],
   "source": [
    "plot(payment,\"payment_sequential\",\"bar\")"
   ]
  },
  {
   "cell_type": "code",
   "execution_count": 40,
   "metadata": {},
   "outputs": [
    {
     "data": {
      "text/plain": [
       "Text(0.5, 1.0, 'Installments In Payment')"
      ]
     },
     "execution_count": 40,
     "metadata": {},
     "output_type": "execute_result"
    },
    {
     "data": {
      "image/png": "[encoded data removed]",
      "text/plain": [
       "<Figure size 432x288 with 1 Axes>"
      ]
     },
     "metadata": {
      "needs_background": "light"
     },
     "output_type": "display_data"
    }
   ],
   "source": [
    "plot(payment,\"payment_installments\",\"bar\")\n",
    "plt.ylabel(\"Total Count\")\n",
    "plt.title(\"Installments In Payment\")"
   ]
  },
  {
   "cell_type": "code",
   "execution_count": 41,
   "metadata": {},
   "outputs": [
    {
     "data": {
      "text/plain": [
       "Text(0, 0.5, 'Total Order Value(million dollar)')"
      ]
     },
     "execution_count": 41,
     "metadata": {},
     "output_type": "execute_result"
    },
    {
     "data": {
      "image/png": "[encoded data removed]",
      "text/plain": [
       "<Figure size 432x288 with 1 Axes>"
      ]
     },
     "metadata": {
      "needs_background": "light"
     },
     "output_type": "display_data"
    }
   ],
   "source": [
    "payment.groupby(\"payment_type\")[\"payment_value\"].sum().plot(kind = \"bar\", \n",
    "                                                            color = \"red\",alpha = 0.6)\n",
    "plt.ylabel(\"Total Order Value(million dollar)\")"
   ]
  },
  {
   "cell_type": "code",
   "execution_count": 42,
   "metadata": {},
   "outputs": [
    {
     "data": {
      "text/plain": [
       "<matplotlib.axes._subplots.AxesSubplot at 0x1a276d5550>"
      ]
     },
     "execution_count": 42,
     "metadata": {},
     "output_type": "execute_result"
    },
    {
     "data": {
      "image/png": "[encoded data removed]",
      "text/plain": [
       "<Figure size 288x432 with 1 Axes>"
      ]
     },
     "metadata": {
      "needs_background": "light"
     },
     "output_type": "display_data"
    }
   ],
   "source": [
    "payment.payment_value.plot(kind = \"box\",color = \"red\",\n",
    "                           figsize = (4,6))"
   ]
  },
  {
   "cell_type": "code",
   "execution_count": 43,
   "metadata": {},
   "outputs": [
    {
     "data": {
      "text/plain": [
       "(0, 500)"
      ]
     },
     "execution_count": 43,
     "metadata": {},
     "output_type": "execute_result"
    },
    {
     "data": {
      "image/png": "[encoded data removed]",
      "text/plain": [
       "<Figure size 432x288 with 1 Axes>"
      ]
     },
     "metadata": {
      "needs_background": "light"
     },
     "output_type": "display_data"
    }
   ],
   "source": [
    "payment.payment_value.plot(kind = \"box\",\n",
    "                   color = \"red\")\n",
    "plt.ylim([0,500])"
   ]
  },
  {
   "cell_type": "code",
   "execution_count": 44,
   "metadata": {},
   "outputs": [
    {
     "data": {
      "text/plain": [
       "count    103886.000000\n",
       "mean        154.100380\n",
       "std         217.494064\n",
       "min           0.000000\n",
       "25%          56.790000\n",
       "50%         100.000000\n",
       "75%         171.837500\n",
       "max       13664.080000\n",
       "Name: payment_value, dtype: float64"
      ]
     },
     "execution_count": 44,
     "metadata": {},
     "output_type": "execute_result"
    }
   ],
   "source": [
    "payment.payment_value.describe()"
   ]
  },
  {
   "cell_type": "code",
   "execution_count": 45,
   "metadata": {},
   "outputs": [
    {
     "data": {
      "text/html": [
       "<div>\n",
       "<style scoped>\n",
       "    .dataframe tbody tr th:only-of-type {\n",
       "        vertical-align: middle;\n",
       "    }\n",
       "\n",
       "    .dataframe tbody tr th {\n",
       "        vertical-align: top;\n",
       "    }\n",
       "\n",
       "    .dataframe thead th {\n",
       "        text-align: right;\n",
       "    }\n",
       "</style>\n",
       "<table border=\"1\" class=\"dataframe\">\n",
       "  <thead>\n",
       "    <tr style=\"text-align: right;\">\n",
       "      <th></th>\n",
       "      <th>order_id</th>\n",
       "      <th>payment_sequential</th>\n",
       "      <th>payment_type</th>\n",
       "      <th>payment_installments</th>\n",
       "      <th>payment_value</th>\n",
       "    </tr>\n",
       "  </thead>\n",
       "  <tbody>\n",
       "    <tr>\n",
       "      <th>19922</th>\n",
       "      <td>8bcbe01d44d147f901cd3192671144db</td>\n",
       "      <td>4</td>\n",
       "      <td>voucher</td>\n",
       "      <td>1</td>\n",
       "      <td>0.0</td>\n",
       "    </tr>\n",
       "    <tr>\n",
       "      <th>36822</th>\n",
       "      <td>fa65dad1b0e818e3ccc5cb0e39231352</td>\n",
       "      <td>14</td>\n",
       "      <td>voucher</td>\n",
       "      <td>1</td>\n",
       "      <td>0.0</td>\n",
       "    </tr>\n",
       "    <tr>\n",
       "      <th>43744</th>\n",
       "      <td>6ccb433e00daae1283ccc956189c82ae</td>\n",
       "      <td>4</td>\n",
       "      <td>voucher</td>\n",
       "      <td>1</td>\n",
       "      <td>0.0</td>\n",
       "    </tr>\n",
       "    <tr>\n",
       "      <th>51280</th>\n",
       "      <td>4637ca194b6387e2d538dc89b124b0ee</td>\n",
       "      <td>1</td>\n",
       "      <td>not_defined</td>\n",
       "      <td>1</td>\n",
       "      <td>0.0</td>\n",
       "    </tr>\n",
       "    <tr>\n",
       "      <th>57411</th>\n",
       "      <td>00b1cb0320190ca0daa2c88b35206009</td>\n",
       "      <td>1</td>\n",
       "      <td>not_defined</td>\n",
       "      <td>1</td>\n",
       "      <td>0.0</td>\n",
       "    </tr>\n",
       "    <tr>\n",
       "      <th>62674</th>\n",
       "      <td>45ed6e85398a87c253db47c2d9f48216</td>\n",
       "      <td>3</td>\n",
       "      <td>voucher</td>\n",
       "      <td>1</td>\n",
       "      <td>0.0</td>\n",
       "    </tr>\n",
       "    <tr>\n",
       "      <th>77885</th>\n",
       "      <td>fa65dad1b0e818e3ccc5cb0e39231352</td>\n",
       "      <td>13</td>\n",
       "      <td>voucher</td>\n",
       "      <td>1</td>\n",
       "      <td>0.0</td>\n",
       "    </tr>\n",
       "    <tr>\n",
       "      <th>94427</th>\n",
       "      <td>c8c528189310eaa44a745b8d9d26908b</td>\n",
       "      <td>1</td>\n",
       "      <td>not_defined</td>\n",
       "      <td>1</td>\n",
       "      <td>0.0</td>\n",
       "    </tr>\n",
       "    <tr>\n",
       "      <th>100766</th>\n",
       "      <td>b23878b3e8eb4d25a158f57d96331b18</td>\n",
       "      <td>4</td>\n",
       "      <td>voucher</td>\n",
       "      <td>1</td>\n",
       "      <td>0.0</td>\n",
       "    </tr>\n",
       "  </tbody>\n",
       "</table>\n",
       "</div>"
      ],
      "text/plain": [
       "                                order_id  payment_sequential payment_type  \\\n",
       "19922   8bcbe01d44d147f901cd3192671144db                   4      voucher   \n",
       "36822   fa65dad1b0e818e3ccc5cb0e39231352                  14      voucher   \n",
       "43744   6ccb433e00daae1283ccc956189c82ae                   4      voucher   \n",
       "51280   4637ca194b6387e2d538dc89b124b0ee                   1  not_defined   \n",
       "57411   00b1cb0320190ca0daa2c88b35206009                   1  not_defined   \n",
       "62674   45ed6e85398a87c253db47c2d9f48216                   3      voucher   \n",
       "77885   fa65dad1b0e818e3ccc5cb0e39231352                  13      voucher   \n",
       "94427   c8c528189310eaa44a745b8d9d26908b                   1  not_defined   \n",
       "100766  b23878b3e8eb4d25a158f57d96331b18                   4      voucher   \n",
       "\n",
       "        payment_installments  payment_value  \n",
       "19922                      1            0.0  \n",
       "36822                      1            0.0  \n",
       "43744                      1            0.0  \n",
       "51280                      1            0.0  \n",
       "57411                      1            0.0  \n",
       "62674                      1            0.0  \n",
       "77885                      1            0.0  \n",
       "94427                      1            0.0  \n",
       "100766                     1            0.0  "
      ]
     },
     "execution_count": 45,
     "metadata": {},
     "output_type": "execute_result"
    }
   ],
   "source": [
    "payment[payment.payment_value == 0]"
   ]
  },
  {
   "cell_type": "markdown",
   "metadata": {},
   "source": [
    "这9个订单都是订单金额为0的，细查发现是使用了voucher代金券和三个not_defined，所以实收金额为0。"
   ]
  },
  {
   "cell_type": "code",
   "execution_count": 46,
   "metadata": {},
   "outputs": [
    {
     "data": {
      "text/html": [
       "<div>\n",
       "<style scoped>\n",
       "    .dataframe tbody tr th:only-of-type {\n",
       "        vertical-align: middle;\n",
       "    }\n",
       "\n",
       "    .dataframe tbody tr th {\n",
       "        vertical-align: top;\n",
       "    }\n",
       "\n",
       "    .dataframe thead th {\n",
       "        text-align: right;\n",
       "    }\n",
       "</style>\n",
       "<table border=\"1\" class=\"dataframe\">\n",
       "  <thead>\n",
       "    <tr style=\"text-align: right;\">\n",
       "      <th></th>\n",
       "      <th>order_id</th>\n",
       "      <th>payment_sequential</th>\n",
       "      <th>payment_type</th>\n",
       "      <th>payment_installments</th>\n",
       "      <th>payment_value</th>\n",
       "    </tr>\n",
       "  </thead>\n",
       "  <tbody>\n",
       "    <tr>\n",
       "      <th>52107</th>\n",
       "      <td>03caa2c082116e1d31e67e9ae3700499</td>\n",
       "      <td>1</td>\n",
       "      <td>credit_card</td>\n",
       "      <td>1</td>\n",
       "      <td>13664.08</td>\n",
       "    </tr>\n",
       "  </tbody>\n",
       "</table>\n",
       "</div>"
      ],
      "text/plain": [
       "                               order_id  payment_sequential payment_type  \\\n",
       "52107  03caa2c082116e1d31e67e9ae3700499                   1  credit_card   \n",
       "\n",
       "       payment_installments  payment_value  \n",
       "52107                     1       13664.08  "
      ]
     },
     "execution_count": 46,
     "metadata": {},
     "output_type": "execute_result"
    }
   ],
   "source": [
    "payment[payment.payment_value == 13664.080000]"
   ]
  },
  {
   "cell_type": "markdown",
   "metadata": {},
   "source": [
    "有一个非常大的订单金额，在平均金额为154.100380的情况下，达到单笔13664.08；\n",
    "\n",
    "详情来看，这笔确实是存在的，使用了信用卡付款，并且一次付清。"
   ]
  },
  {
   "cell_type": "markdown",
   "metadata": {},
   "source": [
    "#### item 数据集"
   ]
  },
  {
   "cell_type": "markdown",
   "metadata": {},
   "source": [
    "{order_id} - order unique identifier\n",
    "\n",
    "{order_item_id} - sequential number identifying number of items included in the same order.\n",
    "\n",
    "{product_id} - product unique identifier\n",
    "\n",
    "{seller_id} - seller unique identifier\n",
    "\n",
    "{shipping_limit_date} - Shows the seller shipping limit date for handling the order over to the logistic partner.\n",
    "\n",
    "{price item} -  price\n",
    "\n",
    "{freight_value} -  item freight value item (if an order has more than one item the freight value is splitted between items)"
   ]
  },
  {
   "cell_type": "markdown",
   "metadata": {},
   "source": [
    "Dimensões do pacote\n",
    "Peso do pacote\n",
    "Origem (nossos pacotes tem múltiplas origens)\n",
    "Destino\n",
    "Valor do seguro (0,7% do valor do produto = valor do produto * 0.007 )\n",
    "Se você subtrair do frete 0,7% do valor do produto, deverá eliminar boa parte da correlação entre as duas variáveis. deverão sobrar somente relações do tipo: \n",
    "produto mais caro -> pacote maior -> frete mais caro\n",
    "\n",
    "\n",
    "运费的计算考虑了以下变量：\n",
    "\n",
    "封装尺寸\n",
    "包裹的重量\n",
    "来源（我们的数据有多个起源）\n",
    "目的地\n",
    "保险价值（0.7 %的产品价值=产品价值×0.007）\n",
    "如果你的货物价值减去的0.7%的好产品，希望消除这两个变量之间的关系的一部分。\n",
    "\n",
    "只有类型的关系应是：\n",
    "最大最贵的产品→包装→最昂贵的运费\n"
   ]
  },
  {
   "cell_type": "code",
   "execution_count": 47,
   "metadata": {},
   "outputs": [
    {
     "data": {
      "text/html": [
       "<div>\n",
       "<style scoped>\n",
       "    .dataframe tbody tr th:only-of-type {\n",
       "        vertical-align: middle;\n",
       "    }\n",
       "\n",
       "    .dataframe tbody tr th {\n",
       "        vertical-align: top;\n",
       "    }\n",
       "\n",
       "    .dataframe thead th {\n",
       "        text-align: right;\n",
       "    }\n",
       "</style>\n",
       "<table border=\"1\" class=\"dataframe\">\n",
       "  <thead>\n",
       "    <tr style=\"text-align: right;\">\n",
       "      <th></th>\n",
       "      <th>order_id</th>\n",
       "      <th>order_item_id</th>\n",
       "      <th>product_id</th>\n",
       "      <th>seller_id</th>\n",
       "      <th>shipping_limit_date</th>\n",
       "      <th>price</th>\n",
       "      <th>freight_value</th>\n",
       "    </tr>\n",
       "  </thead>\n",
       "  <tbody>\n",
       "    <tr>\n",
       "      <th>0</th>\n",
       "      <td>00010242fe8c5a6d1ba2dd792cb16214</td>\n",
       "      <td>1</td>\n",
       "      <td>4244733e06e7ecb4970a6e2683c13e61</td>\n",
       "      <td>48436dade18ac8b2bce089ec2a041202</td>\n",
       "      <td>2017-09-19 09:45:35</td>\n",
       "      <td>58.90</td>\n",
       "      <td>13.29</td>\n",
       "    </tr>\n",
       "    <tr>\n",
       "      <th>1</th>\n",
       "      <td>00018f77f2f0320c557190d7a144bdd3</td>\n",
       "      <td>1</td>\n",
       "      <td>e5f2d52b802189ee658865ca93d83a8f</td>\n",
       "      <td>dd7ddc04e1b6c2c614352b383efe2d36</td>\n",
       "      <td>2017-05-03 11:05:13</td>\n",
       "      <td>239.90</td>\n",
       "      <td>19.93</td>\n",
       "    </tr>\n",
       "    <tr>\n",
       "      <th>2</th>\n",
       "      <td>000229ec398224ef6ca0657da4fc703e</td>\n",
       "      <td>1</td>\n",
       "      <td>c777355d18b72b67abbeef9df44fd0fd</td>\n",
       "      <td>5b51032eddd242adc84c38acab88f23d</td>\n",
       "      <td>2018-01-18 14:48:30</td>\n",
       "      <td>199.00</td>\n",
       "      <td>17.87</td>\n",
       "    </tr>\n",
       "    <tr>\n",
       "      <th>3</th>\n",
       "      <td>00024acbcdf0a6daa1e931b038114c75</td>\n",
       "      <td>1</td>\n",
       "      <td>7634da152a4610f1595efa32f14722fc</td>\n",
       "      <td>9d7a1d34a5052409006425275ba1c2b4</td>\n",
       "      <td>2018-08-15 10:10:18</td>\n",
       "      <td>12.99</td>\n",
       "      <td>12.79</td>\n",
       "    </tr>\n",
       "    <tr>\n",
       "      <th>4</th>\n",
       "      <td>00042b26cf59d7ce69dfabb4e55b4fd9</td>\n",
       "      <td>1</td>\n",
       "      <td>ac6c3623068f30de03045865e4e10089</td>\n",
       "      <td>df560393f3a51e74553ab94004ba5c87</td>\n",
       "      <td>2017-02-13 13:57:51</td>\n",
       "      <td>199.90</td>\n",
       "      <td>18.14</td>\n",
       "    </tr>\n",
       "  </tbody>\n",
       "</table>\n",
       "</div>"
      ],
      "text/plain": [
       "                           order_id  order_item_id  \\\n",
       "0  00010242fe8c5a6d1ba2dd792cb16214              1   \n",
       "1  00018f77f2f0320c557190d7a144bdd3              1   \n",
       "2  000229ec398224ef6ca0657da4fc703e              1   \n",
       "3  00024acbcdf0a6daa1e931b038114c75              1   \n",
       "4  00042b26cf59d7ce69dfabb4e55b4fd9              1   \n",
       "\n",
       "                         product_id                         seller_id  \\\n",
       "0  4244733e06e7ecb4970a6e2683c13e61  48436dade18ac8b2bce089ec2a041202   \n",
       "1  e5f2d52b802189ee658865ca93d83a8f  dd7ddc04e1b6c2c614352b383efe2d36   \n",
       "2  c777355d18b72b67abbeef9df44fd0fd  5b51032eddd242adc84c38acab88f23d   \n",
       "3  7634da152a4610f1595efa32f14722fc  9d7a1d34a5052409006425275ba1c2b4   \n",
       "4  ac6c3623068f30de03045865e4e10089  df560393f3a51e74553ab94004ba5c87   \n",
       "\n",
       "   shipping_limit_date   price  freight_value  \n",
       "0  2017-09-19 09:45:35   58.90          13.29  \n",
       "1  2017-05-03 11:05:13  239.90          19.93  \n",
       "2  2018-01-18 14:48:30  199.00          17.87  \n",
       "3  2018-08-15 10:10:18   12.99          12.79  \n",
       "4  2017-02-13 13:57:51  199.90          18.14  "
      ]
     },
     "execution_count": 47,
     "metadata": {},
     "output_type": "execute_result"
    }
   ],
   "source": [
    "item.head()"
   ]
  },
  {
   "cell_type": "code",
   "execution_count": 48,
   "metadata": {},
   "outputs": [
    {
     "data": {
      "text/html": [
       "<div>\n",
       "<style scoped>\n",
       "    .dataframe tbody tr th:only-of-type {\n",
       "        vertical-align: middle;\n",
       "    }\n",
       "\n",
       "    .dataframe tbody tr th {\n",
       "        vertical-align: top;\n",
       "    }\n",
       "\n",
       "    .dataframe thead th {\n",
       "        text-align: right;\n",
       "    }\n",
       "</style>\n",
       "<table border=\"1\" class=\"dataframe\">\n",
       "  <thead>\n",
       "    <tr style=\"text-align: right;\">\n",
       "      <th></th>\n",
       "      <th>order_id</th>\n",
       "      <th>order_item_id</th>\n",
       "      <th>product_id</th>\n",
       "      <th>seller_id</th>\n",
       "      <th>shipping_limit_date</th>\n",
       "      <th>price</th>\n",
       "      <th>freight_value</th>\n",
       "    </tr>\n",
       "  </thead>\n",
       "  <tbody>\n",
       "    <tr>\n",
       "      <th>35601</th>\n",
       "      <td>509e23091b0dc6edfc5fffc94dc3dd0a</td>\n",
       "      <td>1</td>\n",
       "      <td>60349023b5385947aa3a395689868518</td>\n",
       "      <td>77530e9772f57a62c906e1c21538ab82</td>\n",
       "      <td>2017-10-26 19:49:09</td>\n",
       "      <td>49.00</td>\n",
       "      <td>15.10</td>\n",
       "    </tr>\n",
       "    <tr>\n",
       "      <th>48301</th>\n",
       "      <td>6dcf745ce57950a1212195d3559b1a85</td>\n",
       "      <td>1</td>\n",
       "      <td>c69a909c359c635a647fb23aff17b362</td>\n",
       "      <td>bc47d5d1490df2b36add65d733eafaba</td>\n",
       "      <td>2018-03-14 02:30:44</td>\n",
       "      <td>90.00</td>\n",
       "      <td>14.72</td>\n",
       "    </tr>\n",
       "    <tr>\n",
       "      <th>110334</th>\n",
       "      <td>faaf6a860e3ad876765787c9e1a93464</td>\n",
       "      <td>1</td>\n",
       "      <td>56a59e73563d9b8d536af8b0dc9e0995</td>\n",
       "      <td>e24fc9fcd865784fb25705606fe3dfe7</td>\n",
       "      <td>2017-04-11 16:10:10</td>\n",
       "      <td>156.00</td>\n",
       "      <td>11.70</td>\n",
       "    </tr>\n",
       "    <tr>\n",
       "      <th>88507</th>\n",
       "      <td>c901aee1a796480fc91d75a1214eb170</td>\n",
       "      <td>1</td>\n",
       "      <td>b83738ac1903f7c8f0ed378cb085909c</td>\n",
       "      <td>c003204e1ab016dfa150abc119207b24</td>\n",
       "      <td>2018-04-06 17:49:02</td>\n",
       "      <td>129.90</td>\n",
       "      <td>34.77</td>\n",
       "    </tr>\n",
       "    <tr>\n",
       "      <th>19242</th>\n",
       "      <td>2c398232e6fe6bb3416c2cd54a5b0b28</td>\n",
       "      <td>1</td>\n",
       "      <td>920840f7899b13c467d223950c89e9e9</td>\n",
       "      <td>7a67c85e85bb2ce8582c35f2203ad736</td>\n",
       "      <td>2017-05-02 08:25:54</td>\n",
       "      <td>20.99</td>\n",
       "      <td>12.93</td>\n",
       "    </tr>\n",
       "  </tbody>\n",
       "</table>\n",
       "</div>"
      ],
      "text/plain": [
       "                                order_id  order_item_id  \\\n",
       "35601   509e23091b0dc6edfc5fffc94dc3dd0a              1   \n",
       "48301   6dcf745ce57950a1212195d3559b1a85              1   \n",
       "110334  faaf6a860e3ad876765787c9e1a93464              1   \n",
       "88507   c901aee1a796480fc91d75a1214eb170              1   \n",
       "19242   2c398232e6fe6bb3416c2cd54a5b0b28              1   \n",
       "\n",
       "                              product_id                         seller_id  \\\n",
       "35601   60349023b5385947aa3a395689868518  77530e9772f57a62c906e1c21538ab82   \n",
       "48301   c69a909c359c635a647fb23aff17b362  bc47d5d1490df2b36add65d733eafaba   \n",
       "110334  56a59e73563d9b8d536af8b0dc9e0995  e24fc9fcd865784fb25705606fe3dfe7   \n",
       "88507   b83738ac1903f7c8f0ed378cb085909c  c003204e1ab016dfa150abc119207b24   \n",
       "19242   920840f7899b13c467d223950c89e9e9  7a67c85e85bb2ce8582c35f2203ad736   \n",
       "\n",
       "        shipping_limit_date   price  freight_value  \n",
       "35601   2017-10-26 19:49:09   49.00          15.10  \n",
       "48301   2018-03-14 02:30:44   90.00          14.72  \n",
       "110334  2017-04-11 16:10:10  156.00          11.70  \n",
       "88507   2018-04-06 17:49:02  129.90          34.77  \n",
       "19242   2017-05-02 08:25:54   20.99          12.93  "
      ]
     },
     "execution_count": 48,
     "metadata": {},
     "output_type": "execute_result"
    }
   ],
   "source": [
    "item.sample(5)"
   ]
  },
  {
   "cell_type": "markdown",
   "metadata": {},
   "source": [
    "for example:\n",
    "\n",
    "for order_id 00143d0f86d6fbd9f9b38ab440ac16f5, there are 3 same products, so\n",
    "\n",
    "The total order_item value is: 21.33 * 3 = 63.99\n",
    "\n",
    "The total freight value is: 15.10 * 3 = 45.30\n",
    "\n",
    "The total order value (product + freight)  is: 45.30 + 63.99 = 109.29\n",
    "\n",
    "举个例子：\n",
    "\n",
    "对于订单 00143d0f86d6fbd9f9b38ab440ac16f5，一共有3个产品，从product_id来看，是同一个产品，所以\n",
    "\n",
    "订单中产品的总金额为 21.33 * 3 = 63.99\n",
    "\n",
    "订单中运费的总金额为 15.10 * 3 = 45.30\n",
    "\n",
    "总订单金额为（产品总金额+总运费） = 45.30 + 63.99 = 109.29"
   ]
  },
  {
   "cell_type": "code",
   "execution_count": 49,
   "metadata": {},
   "outputs": [
    {
     "data": {
      "text/html": [
       "<div>\n",
       "<style scoped>\n",
       "    .dataframe tbody tr th:only-of-type {\n",
       "        vertical-align: middle;\n",
       "    }\n",
       "\n",
       "    .dataframe tbody tr th {\n",
       "        vertical-align: top;\n",
       "    }\n",
       "\n",
       "    .dataframe thead th {\n",
       "        text-align: right;\n",
       "    }\n",
       "</style>\n",
       "<table border=\"1\" class=\"dataframe\">\n",
       "  <thead>\n",
       "    <tr style=\"text-align: right;\">\n",
       "      <th></th>\n",
       "      <th>order_id</th>\n",
       "      <th>order_item_id</th>\n",
       "      <th>product_id</th>\n",
       "      <th>seller_id</th>\n",
       "      <th>shipping_limit_date</th>\n",
       "      <th>price</th>\n",
       "      <th>freight_value</th>\n",
       "    </tr>\n",
       "  </thead>\n",
       "  <tbody>\n",
       "    <tr>\n",
       "      <th>32</th>\n",
       "      <td>00143d0f86d6fbd9f9b38ab440ac16f5</td>\n",
       "      <td>1</td>\n",
       "      <td>e95ee6822b66ac6058e2e4aff656071a</td>\n",
       "      <td>a17f621c590ea0fab3d5d883e1630ec6</td>\n",
       "      <td>2017-10-20 16:07:52</td>\n",
       "      <td>21.33</td>\n",
       "      <td>15.1</td>\n",
       "    </tr>\n",
       "    <tr>\n",
       "      <th>33</th>\n",
       "      <td>00143d0f86d6fbd9f9b38ab440ac16f5</td>\n",
       "      <td>2</td>\n",
       "      <td>e95ee6822b66ac6058e2e4aff656071a</td>\n",
       "      <td>a17f621c590ea0fab3d5d883e1630ec6</td>\n",
       "      <td>2017-10-20 16:07:52</td>\n",
       "      <td>21.33</td>\n",
       "      <td>15.1</td>\n",
       "    </tr>\n",
       "    <tr>\n",
       "      <th>34</th>\n",
       "      <td>00143d0f86d6fbd9f9b38ab440ac16f5</td>\n",
       "      <td>3</td>\n",
       "      <td>e95ee6822b66ac6058e2e4aff656071a</td>\n",
       "      <td>a17f621c590ea0fab3d5d883e1630ec6</td>\n",
       "      <td>2017-10-20 16:07:52</td>\n",
       "      <td>21.33</td>\n",
       "      <td>15.1</td>\n",
       "    </tr>\n",
       "  </tbody>\n",
       "</table>\n",
       "</div>"
      ],
      "text/plain": [
       "                            order_id  order_item_id  \\\n",
       "32  00143d0f86d6fbd9f9b38ab440ac16f5              1   \n",
       "33  00143d0f86d6fbd9f9b38ab440ac16f5              2   \n",
       "34  00143d0f86d6fbd9f9b38ab440ac16f5              3   \n",
       "\n",
       "                          product_id                         seller_id  \\\n",
       "32  e95ee6822b66ac6058e2e4aff656071a  a17f621c590ea0fab3d5d883e1630ec6   \n",
       "33  e95ee6822b66ac6058e2e4aff656071a  a17f621c590ea0fab3d5d883e1630ec6   \n",
       "34  e95ee6822b66ac6058e2e4aff656071a  a17f621c590ea0fab3d5d883e1630ec6   \n",
       "\n",
       "    shipping_limit_date  price  freight_value  \n",
       "32  2017-10-20 16:07:52  21.33           15.1  \n",
       "33  2017-10-20 16:07:52  21.33           15.1  \n",
       "34  2017-10-20 16:07:52  21.33           15.1  "
      ]
     },
     "execution_count": 49,
     "metadata": {},
     "output_type": "execute_result"
    }
   ],
   "source": [
    "item[item.order_id == \"00143d0f86d6fbd9f9b38ab440ac16f5\"]"
   ]
  },
  {
   "cell_type": "code",
   "execution_count": 50,
   "metadata": {},
   "outputs": [
    {
     "name": "stdout",
     "output_type": "stream",
     "text": [
      "<class 'pandas.core.frame.DataFrame'>\n",
      "RangeIndex: 112650 entries, 0 to 112649\n",
      "Data columns (total 7 columns):\n",
      "order_id               112650 non-null object\n",
      "order_item_id          112650 non-null int64\n",
      "product_id             112650 non-null object\n",
      "seller_id              112650 non-null object\n",
      "shipping_limit_date    112650 non-null object\n",
      "price                  112650 non-null float64\n",
      "freight_value          112650 non-null float64\n",
      "dtypes: float64(2), int64(1), object(4)\n",
      "memory usage: 6.0+ MB\n"
     ]
    }
   ],
   "source": [
    "item.info()"
   ]
  },
  {
   "cell_type": "code",
   "execution_count": 51,
   "metadata": {},
   "outputs": [
    {
     "data": {
      "text/plain": [
       "0"
      ]
     },
     "execution_count": 51,
     "metadata": {},
     "output_type": "execute_result"
    }
   ],
   "source": [
    "item.duplicated().sum()"
   ]
  },
  {
   "cell_type": "markdown",
   "metadata": {},
   "source": [
    "数据集没有缺失值，也没有重复值，开始探索性分析"
   ]
  },
  {
   "cell_type": "code",
   "execution_count": 52,
   "metadata": {},
   "outputs": [
    {
     "data": {
      "text/plain": [
       "98666"
      ]
     },
     "execution_count": 52,
     "metadata": {},
     "output_type": "execute_result"
    }
   ],
   "source": [
    "item.order_id.nunique()"
   ]
  },
  {
   "cell_type": "markdown",
   "metadata": {},
   "source": [
    "order_id列的数据数量98666小于112650个，\n",
    "\n",
    "所以存在同一个订单中，购买不同商品，但是分开来算的情况"
   ]
  },
  {
   "cell_type": "code",
   "execution_count": 53,
   "metadata": {},
   "outputs": [
    {
     "data": {
      "text/plain": [
       "1     98666\n",
       "2      9803\n",
       "3      2287\n",
       "4       965\n",
       "5       460\n",
       "6       256\n",
       "7        58\n",
       "8        36\n",
       "9        28\n",
       "10       25\n",
       "11       17\n",
       "12       13\n",
       "13        8\n",
       "14        7\n",
       "15        5\n",
       "20        3\n",
       "16        3\n",
       "17        3\n",
       "18        3\n",
       "19        3\n",
       "21        1\n",
       "Name: order_item_id, dtype: int64"
      ]
     },
     "execution_count": 53,
     "metadata": {},
     "output_type": "execute_result"
    }
   ],
   "source": [
    "item.order_item_id.value_counts()"
   ]
  },
  {
   "cell_type": "code",
   "execution_count": 54,
   "metadata": {},
   "outputs": [
    {
     "data": {
      "text/plain": [
       "32951"
      ]
     },
     "execution_count": 54,
     "metadata": {},
     "output_type": "execute_result"
    }
   ],
   "source": [
    "item.product_id.nunique()"
   ]
  },
  {
   "cell_type": "code",
   "execution_count": 55,
   "metadata": {},
   "outputs": [
    {
     "data": {
      "text/plain": [
       "3095"
      ]
     },
     "execution_count": 55,
     "metadata": {},
     "output_type": "execute_result"
    }
   ],
   "source": [
    "item.seller_id.nunique()"
   ]
  },
  {
   "cell_type": "code",
   "execution_count": 56,
   "metadata": {},
   "outputs": [
    {
     "data": {
      "text/plain": [
       "<matplotlib.axes._subplots.AxesSubplot at 0x1a27676860>"
      ]
     },
     "execution_count": 56,
     "metadata": {},
     "output_type": "execute_result"
    },
    {
     "data": {
      "image/png": "[encoded data removed]",
      "text/plain": [
       "<Figure size 432x288 with 1 Axes>"
      ]
     },
     "metadata": {
      "needs_background": "light"
     },
     "output_type": "display_data"
    }
   ],
   "source": [
    "item.price.plot(kind = \"box\", color = \"red\")                        "
   ]
  },
  {
   "cell_type": "code",
   "execution_count": 57,
   "metadata": {},
   "outputs": [
    {
     "data": {
      "text/plain": [
       "count    112650.000000\n",
       "mean        120.653739\n",
       "std         183.633928\n",
       "min           0.850000\n",
       "25%          39.900000\n",
       "50%          74.990000\n",
       "75%         134.900000\n",
       "max        6735.000000\n",
       "Name: price, dtype: float64"
      ]
     },
     "execution_count": 57,
     "metadata": {},
     "output_type": "execute_result"
    }
   ],
   "source": [
    "item.price.describe()"
   ]
  },
  {
   "cell_type": "code",
   "execution_count": 58,
   "metadata": {},
   "outputs": [
    {
     "data": {
      "text/plain": [
       "<matplotlib.axes._subplots.AxesSubplot at 0x1a2774f630>"
      ]
     },
     "execution_count": 58,
     "metadata": {},
     "output_type": "execute_result"
    },
    {
     "data": {
      "image/png": "[encoded data removed]",
      "text/plain": [
       "<Figure size 432x288 with 1 Axes>"
      ]
     },
     "metadata": {
      "needs_background": "light"
     },
     "output_type": "display_data"
    }
   ],
   "source": [
    "item.freight_value.plot(kind = \"box\", color =\"red\")"
   ]
  },
  {
   "cell_type": "code",
   "execution_count": 59,
   "metadata": {},
   "outputs": [
    {
     "data": {
      "text/plain": [
       "count    112650.000000\n",
       "mean         19.990320\n",
       "std          15.806405\n",
       "min           0.000000\n",
       "25%          13.080000\n",
       "50%          16.260000\n",
       "75%          21.150000\n",
       "max         409.680000\n",
       "Name: freight_value, dtype: float64"
      ]
     },
     "execution_count": 59,
     "metadata": {},
     "output_type": "execute_result"
    }
   ],
   "source": [
    "item.freight_value.describe()"
   ]
  },
  {
   "cell_type": "markdown",
   "metadata": {},
   "source": [
    "#### seller 数据集"
   ]
  },
  {
   "cell_type": "markdown",
   "metadata": {},
   "source": [
    "{seller_id} - seller unique identifier\n",
    "\n",
    "{seller_zip_code_prefix} - first 5 digits of seller zip code\n",
    "\n",
    "{seller_city} - seller city name\n",
    "\n",
    "{seller_state} - seller state"
   ]
  },
  {
   "cell_type": "code",
   "execution_count": 60,
   "metadata": {},
   "outputs": [
    {
     "data": {
      "text/html": [
       "<div>\n",
       "<style scoped>\n",
       "    .dataframe tbody tr th:only-of-type {\n",
       "        vertical-align: middle;\n",
       "    }\n",
       "\n",
       "    .dataframe tbody tr th {\n",
       "        vertical-align: top;\n",
       "    }\n",
       "\n",
       "    .dataframe thead th {\n",
       "        text-align: right;\n",
       "    }\n",
       "</style>\n",
       "<table border=\"1\" class=\"dataframe\">\n",
       "  <thead>\n",
       "    <tr style=\"text-align: right;\">\n",
       "      <th></th>\n",
       "      <th>seller_id</th>\n",
       "      <th>seller_zip_code_prefix</th>\n",
       "      <th>seller_city</th>\n",
       "      <th>seller_state</th>\n",
       "    </tr>\n",
       "  </thead>\n",
       "  <tbody>\n",
       "    <tr>\n",
       "      <th>0</th>\n",
       "      <td>3442f8959a84dea7ee197c632cb2df15</td>\n",
       "      <td>13023</td>\n",
       "      <td>campinas</td>\n",
       "      <td>SP</td>\n",
       "    </tr>\n",
       "    <tr>\n",
       "      <th>1</th>\n",
       "      <td>d1b65fc7debc3361ea86b5f14c68d2e2</td>\n",
       "      <td>13844</td>\n",
       "      <td>mogi guacu</td>\n",
       "      <td>SP</td>\n",
       "    </tr>\n",
       "    <tr>\n",
       "      <th>2</th>\n",
       "      <td>ce3ad9de960102d0677a81f5d0bb7b2d</td>\n",
       "      <td>20031</td>\n",
       "      <td>rio de janeiro</td>\n",
       "      <td>RJ</td>\n",
       "    </tr>\n",
       "    <tr>\n",
       "      <th>3</th>\n",
       "      <td>c0f3eea2e14555b6faeea3dd58c1b1c3</td>\n",
       "      <td>4195</td>\n",
       "      <td>sao paulo</td>\n",
       "      <td>SP</td>\n",
       "    </tr>\n",
       "    <tr>\n",
       "      <th>4</th>\n",
       "      <td>51a04a8a6bdcb23deccc82b0b80742cf</td>\n",
       "      <td>12914</td>\n",
       "      <td>braganca paulista</td>\n",
       "      <td>SP</td>\n",
       "    </tr>\n",
       "  </tbody>\n",
       "</table>\n",
       "</div>"
      ],
      "text/plain": [
       "                          seller_id  seller_zip_code_prefix  \\\n",
       "0  3442f8959a84dea7ee197c632cb2df15                   13023   \n",
       "1  d1b65fc7debc3361ea86b5f14c68d2e2                   13844   \n",
       "2  ce3ad9de960102d0677a81f5d0bb7b2d                   20031   \n",
       "3  c0f3eea2e14555b6faeea3dd58c1b1c3                    4195   \n",
       "4  51a04a8a6bdcb23deccc82b0b80742cf                   12914   \n",
       "\n",
       "         seller_city seller_state  \n",
       "0           campinas           SP  \n",
       "1         mogi guacu           SP  \n",
       "2     rio de janeiro           RJ  \n",
       "3          sao paulo           SP  \n",
       "4  braganca paulista           SP  "
      ]
     },
     "execution_count": 60,
     "metadata": {},
     "output_type": "execute_result"
    }
   ],
   "source": [
    "seller.head()"
   ]
  },
  {
   "cell_type": "code",
   "execution_count": 61,
   "metadata": {},
   "outputs": [
    {
     "name": "stdout",
     "output_type": "stream",
     "text": [
      "<class 'pandas.core.frame.DataFrame'>\n",
      "RangeIndex: 3095 entries, 0 to 3094\n",
      "Data columns (total 4 columns):\n",
      "seller_id                 3095 non-null object\n",
      "seller_zip_code_prefix    3095 non-null int64\n",
      "seller_city               3095 non-null object\n",
      "seller_state              3095 non-null object\n",
      "dtypes: int64(1), object(3)\n",
      "memory usage: 96.8+ KB\n"
     ]
    }
   ],
   "source": [
    "seller.info()"
   ]
  },
  {
   "cell_type": "code",
   "execution_count": 62,
   "metadata": {},
   "outputs": [
    {
     "data": {
      "text/plain": [
       "2246"
      ]
     },
     "execution_count": 62,
     "metadata": {},
     "output_type": "execute_result"
    }
   ],
   "source": [
    "seller.seller_zip_code_prefix.nunique()"
   ]
  },
  {
   "cell_type": "code",
   "execution_count": 63,
   "metadata": {},
   "outputs": [
    {
     "data": {
      "text/plain": [
       "611"
      ]
     },
     "execution_count": 63,
     "metadata": {},
     "output_type": "execute_result"
    }
   ],
   "source": [
    "seller.seller_city.nunique()"
   ]
  },
  {
   "cell_type": "code",
   "execution_count": 64,
   "metadata": {},
   "outputs": [
    {
     "data": {
      "text/plain": [
       "23"
      ]
     },
     "execution_count": 64,
     "metadata": {},
     "output_type": "execute_result"
    }
   ],
   "source": [
    "seller.seller_state.nunique()"
   ]
  },
  {
   "cell_type": "code",
   "execution_count": 65,
   "metadata": {},
   "outputs": [
    {
     "data": {
      "text/plain": [
       "<matplotlib.axes._subplots.AxesSubplot at 0x1a20f4ea90>"
      ]
     },
     "execution_count": 65,
     "metadata": {},
     "output_type": "execute_result"
    },
    {
     "data": {
      "image/png": "[encoded data removed]",
      "text/plain": [
       "<Figure size 432x288 with 1 Axes>"
      ]
     },
     "metadata": {
      "needs_background": "light"
     },
     "output_type": "display_data"
    }
   ],
   "source": [
    "seller.seller_state.value_counts().plot(kind = \"bar\",alpha = 0.6, color = \"red\")"
   ]
  },
  {
   "cell_type": "code",
   "execution_count": 66,
   "metadata": {},
   "outputs": [
    {
     "data": {
      "text/plain": [
       "SP    0.597415\n",
       "PR    0.112763\n",
       "MG    0.078837\n",
       "SC    0.061389\n",
       "RJ    0.055250\n",
       "RS    0.041680\n",
       "GO    0.012924\n",
       "DF    0.009693\n",
       "ES    0.007431\n",
       "BA    0.006139\n",
       "CE    0.004200\n",
       "PE    0.002908\n",
       "PB    0.001939\n",
       "MS    0.001616\n",
       "RN    0.001616\n",
       "MT    0.001292\n",
       "SE    0.000646\n",
       "RO    0.000646\n",
       "AM    0.000323\n",
       "AC    0.000323\n",
       "MA    0.000323\n",
       "PA    0.000323\n",
       "PI    0.000323\n",
       "Name: seller_state, dtype: float64"
      ]
     },
     "execution_count": 66,
     "metadata": {},
     "output_type": "execute_result"
    }
   ],
   "source": [
    "seller_perc = seller.seller_state.value_counts()/seller.seller_state.value_counts().sum()\n",
    "seller_perc"
   ]
  },
  {
   "cell_type": "markdown",
   "metadata": {},
   "source": [
    "#### product 数据集"
   ]
  },
  {
   "cell_type": "markdown",
   "metadata": {},
   "source": [
    "{product_id} - unique product identifier\n",
    "\n",
    "{product_category_name} - root category of product, in Portuguese.\n",
    "\n",
    "{product_name_lenght} - number of characters extracted from the product name.\n",
    "\n",
    "{product_description_lenght} - number of characters extracted from the product description.\n",
    "\n",
    "{product_photos_qty} - number of product published photos\n",
    "\n",
    "{product_weight_g} - product weight measured in grams.\n",
    "\n",
    "{product_length_cm} - product length measured in centimeters.\n",
    "\n",
    "{product_height_cm} - product height measured in centimeters.\n",
    "\n",
    "{product_width_cm} - product width measured in centimeters."
   ]
  },
  {
   "cell_type": "code",
   "execution_count": 67,
   "metadata": {},
   "outputs": [
    {
     "data": {
      "text/html": [
       "<div>\n",
       "<style scoped>\n",
       "    .dataframe tbody tr th:only-of-type {\n",
       "        vertical-align: middle;\n",
       "    }\n",
       "\n",
       "    .dataframe tbody tr th {\n",
       "        vertical-align: top;\n",
       "    }\n",
       "\n",
       "    .dataframe thead th {\n",
       "        text-align: right;\n",
       "    }\n",
       "</style>\n",
       "<table border=\"1\" class=\"dataframe\">\n",
       "  <thead>\n",
       "    <tr style=\"text-align: right;\">\n",
       "      <th></th>\n",
       "      <th>product_id</th>\n",
       "      <th>product_category_name</th>\n",
       "      <th>product_name_lenght</th>\n",
       "      <th>product_description_lenght</th>\n",
       "      <th>product_photos_qty</th>\n",
       "      <th>product_weight_g</th>\n",
       "      <th>product_length_cm</th>\n",
       "      <th>product_height_cm</th>\n",
       "      <th>product_width_cm</th>\n",
       "    </tr>\n",
       "  </thead>\n",
       "  <tbody>\n",
       "    <tr>\n",
       "      <th>0</th>\n",
       "      <td>1e9e8ef04dbcff4541ed26657ea517e5</td>\n",
       "      <td>perfumaria</td>\n",
       "      <td>40.0</td>\n",
       "      <td>287.0</td>\n",
       "      <td>1.0</td>\n",
       "      <td>225.0</td>\n",
       "      <td>16.0</td>\n",
       "      <td>10.0</td>\n",
       "      <td>14.0</td>\n",
       "    </tr>\n",
       "    <tr>\n",
       "      <th>1</th>\n",
       "      <td>3aa071139cb16b67ca9e5dea641aaa2f</td>\n",
       "      <td>artes</td>\n",
       "      <td>44.0</td>\n",
       "      <td>276.0</td>\n",
       "      <td>1.0</td>\n",
       "      <td>1000.0</td>\n",
       "      <td>30.0</td>\n",
       "      <td>18.0</td>\n",
       "      <td>20.0</td>\n",
       "    </tr>\n",
       "    <tr>\n",
       "      <th>2</th>\n",
       "      <td>96bd76ec8810374ed1b65e291975717f</td>\n",
       "      <td>esporte_lazer</td>\n",
       "      <td>46.0</td>\n",
       "      <td>250.0</td>\n",
       "      <td>1.0</td>\n",
       "      <td>154.0</td>\n",
       "      <td>18.0</td>\n",
       "      <td>9.0</td>\n",
       "      <td>15.0</td>\n",
       "    </tr>\n",
       "    <tr>\n",
       "      <th>3</th>\n",
       "      <td>cef67bcfe19066a932b7673e239eb23d</td>\n",
       "      <td>bebes</td>\n",
       "      <td>27.0</td>\n",
       "      <td>261.0</td>\n",
       "      <td>1.0</td>\n",
       "      <td>371.0</td>\n",
       "      <td>26.0</td>\n",
       "      <td>4.0</td>\n",
       "      <td>26.0</td>\n",
       "    </tr>\n",
       "    <tr>\n",
       "      <th>4</th>\n",
       "      <td>9dc1a7de274444849c219cff195d0b71</td>\n",
       "      <td>utilidades_domesticas</td>\n",
       "      <td>37.0</td>\n",
       "      <td>402.0</td>\n",
       "      <td>4.0</td>\n",
       "      <td>625.0</td>\n",
       "      <td>20.0</td>\n",
       "      <td>17.0</td>\n",
       "      <td>13.0</td>\n",
       "    </tr>\n",
       "  </tbody>\n",
       "</table>\n",
       "</div>"
      ],
      "text/plain": [
       "                         product_id  product_category_name  \\\n",
       "0  1e9e8ef04dbcff4541ed26657ea517e5             perfumaria   \n",
       "1  3aa071139cb16b67ca9e5dea641aaa2f                  artes   \n",
       "2  96bd76ec8810374ed1b65e291975717f          esporte_lazer   \n",
       "3  cef67bcfe19066a932b7673e239eb23d                  bebes   \n",
       "4  9dc1a7de274444849c219cff195d0b71  utilidades_domesticas   \n",
       "\n",
       "   product_name_lenght  product_description_lenght  product_photos_qty  \\\n",
       "0                 40.0                       287.0                 1.0   \n",
       "1                 44.0                       276.0                 1.0   \n",
       "2                 46.0                       250.0                 1.0   \n",
       "3                 27.0                       261.0                 1.0   \n",
       "4                 37.0                       402.0                 4.0   \n",
       "\n",
       "   product_weight_g  product_length_cm  product_height_cm  product_width_cm  \n",
       "0             225.0               16.0               10.0              14.0  \n",
       "1            1000.0               30.0               18.0              20.0  \n",
       "2             154.0               18.0                9.0              15.0  \n",
       "3             371.0               26.0                4.0              26.0  \n",
       "4             625.0               20.0               17.0              13.0  "
      ]
     },
     "execution_count": 67,
     "metadata": {},
     "output_type": "execute_result"
    }
   ],
   "source": [
    "product.head()"
   ]
  },
  {
   "cell_type": "code",
   "execution_count": 68,
   "metadata": {},
   "outputs": [
    {
     "name": "stdout",
     "output_type": "stream",
     "text": [
      "<class 'pandas.core.frame.DataFrame'>\n",
      "RangeIndex: 32951 entries, 0 to 32950\n",
      "Data columns (total 9 columns):\n",
      "product_id                    32951 non-null object\n",
      "product_category_name         32341 non-null object\n",
      "product_name_lenght           32341 non-null float64\n",
      "product_description_lenght    32341 non-null float64\n",
      "product_photos_qty            32341 non-null float64\n",
      "product_weight_g              32949 non-null float64\n",
      "product_length_cm             32949 non-null float64\n",
      "product_height_cm             32949 non-null float64\n",
      "product_width_cm              32949 non-null float64\n",
      "dtypes: float64(7), object(2)\n",
      "memory usage: 2.3+ MB\n"
     ]
    }
   ],
   "source": [
    "product.info()"
   ]
  },
  {
   "cell_type": "code",
   "execution_count": 69,
   "metadata": {},
   "outputs": [
    {
     "data": {
      "text/plain": [
       "32951"
      ]
     },
     "execution_count": 69,
     "metadata": {},
     "output_type": "execute_result"
    }
   ],
   "source": [
    "product.product_id.nunique()"
   ]
  },
  {
   "cell_type": "code",
   "execution_count": 70,
   "metadata": {},
   "outputs": [
    {
     "data": {
      "image/png": "[encoded data removed]",
      "text/plain": [
       "<Figure size 432x288 with 1 Axes>"
      ]
     },
     "metadata": {
      "needs_background": "light"
     },
     "output_type": "display_data"
    }
   ],
   "source": [
    "plot(product,\"product_category_name\",\"bar\")"
   ]
  },
  {
   "cell_type": "code",
   "execution_count": 71,
   "metadata": {},
   "outputs": [
    {
     "data": {
      "image/png": "[encoded data removed]",
      "text/plain": [
       "<Figure size 432x288 with 1 Axes>"
      ]
     },
     "metadata": {
      "needs_background": "light"
     },
     "output_type": "display_data"
    }
   ],
   "source": [
    "hist(product,\"product_name_lenght\")"
   ]
  },
  {
   "cell_type": "code",
   "execution_count": 72,
   "metadata": {},
   "outputs": [
    {
     "data": {
      "image/png": "[encoded data removed]",
      "text/plain": [
       "<Figure size 432x288 with 1 Axes>"
      ]
     },
     "metadata": {
      "needs_background": "light"
     },
     "output_type": "display_data"
    }
   ],
   "source": [
    "hist(product,\"product_description_lenght\")"
   ]
  },
  {
   "cell_type": "code",
   "execution_count": 73,
   "metadata": {},
   "outputs": [
    {
     "data": {
      "image/png": "[encoded data removed]",
      "text/plain": [
       "<Figure size 432x288 with 1 Axes>"
      ]
     },
     "metadata": {
      "needs_background": "light"
     },
     "output_type": "display_data"
    }
   ],
   "source": [
    "hist(product,\"product_photos_qty\")"
   ]
  },
  {
   "cell_type": "code",
   "execution_count": 74,
   "metadata": {},
   "outputs": [
    {
     "data": {
      "image/png": "[encoded data removed]",
      "text/plain": [
       "<Figure size 432x288 with 1 Axes>"
      ]
     },
     "metadata": {
      "needs_background": "light"
     },
     "output_type": "display_data"
    }
   ],
   "source": [
    "hist(product,\"product_weight_g\")"
   ]
  },
  {
   "cell_type": "code",
   "execution_count": 75,
   "metadata": {},
   "outputs": [
    {
     "data": {
      "image/png": "[encoded data removed]",
      "text/plain": [
       "<Figure size 432x288 with 1 Axes>"
      ]
     },
     "metadata": {
      "needs_background": "light"
     },
     "output_type": "display_data"
    }
   ],
   "source": [
    "hist(product,\"product_length_cm\")"
   ]
  },
  {
   "cell_type": "code",
   "execution_count": 76,
   "metadata": {},
   "outputs": [
    {
     "data": {
      "image/png": "[encoded data removed]",
      "text/plain": [
       "<Figure size 432x288 with 1 Axes>"
      ]
     },
     "metadata": {
      "needs_background": "light"
     },
     "output_type": "display_data"
    }
   ],
   "source": [
    "hist(product,\"product_height_cm\")"
   ]
  },
  {
   "cell_type": "code",
   "execution_count": 77,
   "metadata": {},
   "outputs": [
    {
     "data": {
      "image/png": "[encoded data removed]",
      "text/plain": [
       "<Figure size 432x288 with 1 Axes>"
      ]
     },
     "metadata": {
      "needs_background": "light"
     },
     "output_type": "display_data"
    }
   ],
   "source": [
    "hist(product,\"product_width_cm\")"
   ]
  },
  {
   "cell_type": "markdown",
   "metadata": {},
   "source": [
    "####  order_review 数据集"
   ]
  },
  {
   "cell_type": "markdown",
   "metadata": {},
   "source": [
    "{review_id} - unique review identifier\n",
    "\n",
    "{order_id} - unique order identifier\n",
    "\n",
    "{review_score} - Note ranging from 1 to 5 given by the customer on a satisfaction survey.\n",
    "\n",
    "{review_comment_title} - Comment title from the review left by the customer, in Portuguese.\n",
    "\n",
    "{review_comment_message} - Comment message from the review left by the customer, in Portuguese.\n",
    "\n",
    "{review_creation_date} - Shows the date in which the satisfaction survey was sent to the customer.\n",
    "\n",
    "{review_answer_timestamp} - Shows satisfaction survey answer timestamp."
   ]
  },
  {
   "cell_type": "code",
   "execution_count": 78,
   "metadata": {},
   "outputs": [
    {
     "data": {
      "text/html": [
       "<div>\n",
       "<style scoped>\n",
       "    .dataframe tbody tr th:only-of-type {\n",
       "        vertical-align: middle;\n",
       "    }\n",
       "\n",
       "    .dataframe tbody tr th {\n",
       "        vertical-align: top;\n",
       "    }\n",
       "\n",
       "    .dataframe thead th {\n",
       "        text-align: right;\n",
       "    }\n",
       "</style>\n",
       "<table border=\"1\" class=\"dataframe\">\n",
       "  <thead>\n",
       "    <tr style=\"text-align: right;\">\n",
       "      <th></th>\n",
       "      <th>review_id</th>\n",
       "      <th>order_id</th>\n",
       "      <th>review_score</th>\n",
       "      <th>review_comment_title</th>\n",
       "      <th>review_comment_message</th>\n",
       "      <th>review_creation_date</th>\n",
       "      <th>review_answer_timestamp</th>\n",
       "    </tr>\n",
       "  </thead>\n",
       "  <tbody>\n",
       "    <tr>\n",
       "      <th>0</th>\n",
       "      <td>7bc2406110b926393aa56f80a40eba40</td>\n",
       "      <td>73fc7af87114b39712e6da79b0a377eb</td>\n",
       "      <td>4</td>\n",
       "      <td>NaN</td>\n",
       "      <td>NaN</td>\n",
       "      <td>2018-01-18 00:00:00</td>\n",
       "      <td>2018-01-18 21:46:59</td>\n",
       "    </tr>\n",
       "    <tr>\n",
       "      <th>1</th>\n",
       "      <td>80e641a11e56f04c1ad469d5645fdfde</td>\n",
       "      <td>a548910a1c6147796b98fdf73dbeba33</td>\n",
       "      <td>5</td>\n",
       "      <td>NaN</td>\n",
       "      <td>NaN</td>\n",
       "      <td>2018-03-10 00:00:00</td>\n",
       "      <td>2018-03-11 03:05:13</td>\n",
       "    </tr>\n",
       "    <tr>\n",
       "      <th>2</th>\n",
       "      <td>228ce5500dc1d8e020d8d1322874b6f0</td>\n",
       "      <td>f9e4b658b201a9f2ecdecbb34bed034b</td>\n",
       "      <td>5</td>\n",
       "      <td>NaN</td>\n",
       "      <td>NaN</td>\n",
       "      <td>2018-02-17 00:00:00</td>\n",
       "      <td>2018-02-18 14:36:24</td>\n",
       "    </tr>\n",
       "    <tr>\n",
       "      <th>3</th>\n",
       "      <td>e64fb393e7b32834bb789ff8bb30750e</td>\n",
       "      <td>658677c97b385a9be170737859d3511b</td>\n",
       "      <td>5</td>\n",
       "      <td>NaN</td>\n",
       "      <td>Recebi bem antes do prazo estipulado.</td>\n",
       "      <td>2017-04-21 00:00:00</td>\n",
       "      <td>2017-04-21 22:02:06</td>\n",
       "    </tr>\n",
       "    <tr>\n",
       "      <th>4</th>\n",
       "      <td>f7c4243c7fe1938f181bec41a392bdeb</td>\n",
       "      <td>8e6bfb81e283fa7e4f11123a3fb894f1</td>\n",
       "      <td>5</td>\n",
       "      <td>NaN</td>\n",
       "      <td>Parabéns lojas lannister adorei comprar pela I...</td>\n",
       "      <td>2018-03-01 00:00:00</td>\n",
       "      <td>2018-03-02 10:26:53</td>\n",
       "    </tr>\n",
       "  </tbody>\n",
       "</table>\n",
       "</div>"
      ],
      "text/plain": [
       "                          review_id                          order_id  \\\n",
       "0  7bc2406110b926393aa56f80a40eba40  73fc7af87114b39712e6da79b0a377eb   \n",
       "1  80e641a11e56f04c1ad469d5645fdfde  a548910a1c6147796b98fdf73dbeba33   \n",
       "2  228ce5500dc1d8e020d8d1322874b6f0  f9e4b658b201a9f2ecdecbb34bed034b   \n",
       "3  e64fb393e7b32834bb789ff8bb30750e  658677c97b385a9be170737859d3511b   \n",
       "4  f7c4243c7fe1938f181bec41a392bdeb  8e6bfb81e283fa7e4f11123a3fb894f1   \n",
       "\n",
       "   review_score review_comment_title  \\\n",
       "0             4                  NaN   \n",
       "1             5                  NaN   \n",
       "2             5                  NaN   \n",
       "3             5                  NaN   \n",
       "4             5                  NaN   \n",
       "\n",
       "                              review_comment_message review_creation_date  \\\n",
       "0                                                NaN  2018-01-18 00:00:00   \n",
       "1                                                NaN  2018-03-10 00:00:00   \n",
       "2                                                NaN  2018-02-17 00:00:00   \n",
       "3              Recebi bem antes do prazo estipulado.  2017-04-21 00:00:00   \n",
       "4  Parabéns lojas lannister adorei comprar pela I...  2018-03-01 00:00:00   \n",
       "\n",
       "  review_answer_timestamp  \n",
       "0     2018-01-18 21:46:59  \n",
       "1     2018-03-11 03:05:13  \n",
       "2     2018-02-18 14:36:24  \n",
       "3     2017-04-21 22:02:06  \n",
       "4     2018-03-02 10:26:53  "
      ]
     },
     "execution_count": 78,
     "metadata": {},
     "output_type": "execute_result"
    }
   ],
   "source": [
    "order_review.head()"
   ]
  },
  {
   "cell_type": "code",
   "execution_count": 79,
   "metadata": {},
   "outputs": [
    {
     "name": "stdout",
     "output_type": "stream",
     "text": [
      "<class 'pandas.core.frame.DataFrame'>\n",
      "RangeIndex: 100000 entries, 0 to 99999\n",
      "Data columns (total 7 columns):\n",
      "review_id                  100000 non-null object\n",
      "order_id                   100000 non-null object\n",
      "review_score               100000 non-null int64\n",
      "review_comment_title       11715 non-null object\n",
      "review_comment_message     41753 non-null object\n",
      "review_creation_date       100000 non-null object\n",
      "review_answer_timestamp    100000 non-null object\n",
      "dtypes: int64(1), object(6)\n",
      "memory usage: 5.3+ MB\n"
     ]
    }
   ],
   "source": [
    "order_review.info()"
   ]
  },
  {
   "cell_type": "code",
   "execution_count": 80,
   "metadata": {},
   "outputs": [
    {
     "data": {
      "text/plain": [
       "<matplotlib.axes._subplots.AxesSubplot at 0x1a2aee94a8>"
      ]
     },
     "execution_count": 80,
     "metadata": {},
     "output_type": "execute_result"
    },
    {
     "data": {
      "image/png": "[encoded data removed]",
      "text/plain": [
       "<Figure size 432x288 with 1 Axes>"
      ]
     },
     "metadata": {
      "needs_background": "light"
     },
     "output_type": "display_data"
    }
   ],
   "source": [
    "order_review.review_score.plot(kind = \"box\", color = \"red\")"
   ]
  },
  {
   "cell_type": "code",
   "execution_count": 81,
   "metadata": {},
   "outputs": [
    {
     "data": {
      "text/plain": [
       "review_id                  11858\n",
       "order_id                   11858\n",
       "review_score               11858\n",
       "review_comment_title        1957\n",
       "review_comment_message      9179\n",
       "review_creation_date       11858\n",
       "review_answer_timestamp    11858\n",
       "dtype: int64"
      ]
     },
     "execution_count": 81,
     "metadata": {},
     "output_type": "execute_result"
    }
   ],
   "source": [
    "order_review.query(\"review_score == '1'\").count()"
   ]
  },
  {
   "cell_type": "code",
   "execution_count": 82,
   "metadata": {},
   "outputs": [
    {
     "data": {
      "image/png": "[encoded data removed]",
      "text/plain": [
       "<Figure size 432x288 with 1 Axes>"
      ]
     },
     "metadata": {
      "needs_background": "light"
     },
     "output_type": "display_data"
    }
   ],
   "source": [
    "hist(order_review,\"review_score\")"
   ]
  },
  {
   "cell_type": "markdown",
   "metadata": {},
   "source": [
    "#### geolocation 数据集"
   ]
  },
  {
   "cell_type": "markdown",
   "metadata": {},
   "source": [
    "「geolocation_zip_code_prefix」- first 5 digits of zip code\n",
    "\n",
    "「geolocation_lat」 - latitude\n",
    "\n",
    "「geolocation_lng」 - longitude\n",
    "\n",
    "「geolocation_city」 - city name\n",
    "\n",
    "「geolocation_state」 - state"
   ]
  },
  {
   "cell_type": "code",
   "execution_count": 83,
   "metadata": {},
   "outputs": [
    {
     "data": {
      "text/html": [
       "<div>\n",
       "<style scoped>\n",
       "    .dataframe tbody tr th:only-of-type {\n",
       "        vertical-align: middle;\n",
       "    }\n",
       "\n",
       "    .dataframe tbody tr th {\n",
       "        vertical-align: top;\n",
       "    }\n",
       "\n",
       "    .dataframe thead th {\n",
       "        text-align: right;\n",
       "    }\n",
       "</style>\n",
       "<table border=\"1\" class=\"dataframe\">\n",
       "  <thead>\n",
       "    <tr style=\"text-align: right;\">\n",
       "      <th></th>\n",
       "      <th>geolocation_zip_code_prefix</th>\n",
       "      <th>geolocation_lat</th>\n",
       "      <th>geolocation_lng</th>\n",
       "      <th>geolocation_city</th>\n",
       "      <th>geolocation_state</th>\n",
       "    </tr>\n",
       "  </thead>\n",
       "  <tbody>\n",
       "    <tr>\n",
       "      <th>0</th>\n",
       "      <td>1037</td>\n",
       "      <td>-23.545621</td>\n",
       "      <td>-46.639292</td>\n",
       "      <td>sao paulo</td>\n",
       "      <td>SP</td>\n",
       "    </tr>\n",
       "    <tr>\n",
       "      <th>1</th>\n",
       "      <td>1046</td>\n",
       "      <td>-23.546081</td>\n",
       "      <td>-46.644820</td>\n",
       "      <td>sao paulo</td>\n",
       "      <td>SP</td>\n",
       "    </tr>\n",
       "    <tr>\n",
       "      <th>2</th>\n",
       "      <td>1046</td>\n",
       "      <td>-23.546129</td>\n",
       "      <td>-46.642951</td>\n",
       "      <td>sao paulo</td>\n",
       "      <td>SP</td>\n",
       "    </tr>\n",
       "    <tr>\n",
       "      <th>3</th>\n",
       "      <td>1041</td>\n",
       "      <td>-23.544392</td>\n",
       "      <td>-46.639499</td>\n",
       "      <td>sao paulo</td>\n",
       "      <td>SP</td>\n",
       "    </tr>\n",
       "    <tr>\n",
       "      <th>4</th>\n",
       "      <td>1035</td>\n",
       "      <td>-23.541578</td>\n",
       "      <td>-46.641607</td>\n",
       "      <td>sao paulo</td>\n",
       "      <td>SP</td>\n",
       "    </tr>\n",
       "  </tbody>\n",
       "</table>\n",
       "</div>"
      ],
      "text/plain": [
       "   geolocation_zip_code_prefix  geolocation_lat  geolocation_lng  \\\n",
       "0                         1037       -23.545621       -46.639292   \n",
       "1                         1046       -23.546081       -46.644820   \n",
       "2                         1046       -23.546129       -46.642951   \n",
       "3                         1041       -23.544392       -46.639499   \n",
       "4                         1035       -23.541578       -46.641607   \n",
       "\n",
       "  geolocation_city geolocation_state  \n",
       "0        sao paulo                SP  \n",
       "1        sao paulo                SP  \n",
       "2        sao paulo                SP  \n",
       "3        sao paulo                SP  \n",
       "4        sao paulo                SP  "
      ]
     },
     "execution_count": 83,
     "metadata": {},
     "output_type": "execute_result"
    }
   ],
   "source": [
    "geolocation.head()"
   ]
  },
  {
   "cell_type": "code",
   "execution_count": 84,
   "metadata": {},
   "outputs": [
    {
     "name": "stdout",
     "output_type": "stream",
     "text": [
      "<class 'pandas.core.frame.DataFrame'>\n",
      "RangeIndex: 1000163 entries, 0 to 1000162\n",
      "Data columns (total 5 columns):\n",
      "geolocation_zip_code_prefix    1000163 non-null int64\n",
      "geolocation_lat                1000163 non-null float64\n",
      "geolocation_lng                1000163 non-null float64\n",
      "geolocation_city               1000163 non-null object\n",
      "geolocation_state              1000163 non-null object\n",
      "dtypes: float64(2), int64(1), object(2)\n",
      "memory usage: 38.2+ MB\n"
     ]
    }
   ],
   "source": [
    "geolocation.info()"
   ]
  },
  {
   "cell_type": "code",
   "execution_count": 85,
   "metadata": {},
   "outputs": [
    {
     "data": {
      "text/plain": [
       "261831"
      ]
     },
     "execution_count": 85,
     "metadata": {},
     "output_type": "execute_result"
    }
   ],
   "source": [
    "geolocation.duplicated().sum()"
   ]
  },
  {
   "cell_type": "code",
   "execution_count": 86,
   "metadata": {},
   "outputs": [
    {
     "data": {
      "text/plain": [
       "19015"
      ]
     },
     "execution_count": 86,
     "metadata": {},
     "output_type": "execute_result"
    }
   ],
   "source": [
    "geolocation.geolocation_zip_code_prefix.nunique()"
   ]
  },
  {
   "cell_type": "code",
   "execution_count": 87,
   "metadata": {},
   "outputs": [
    {
     "data": {
      "image/png": "[encoded data removed]",
      "text/plain": [
       "<Figure size 432x288 with 1 Axes>"
      ]
     },
     "metadata": {
      "needs_background": "light"
     },
     "output_type": "display_data"
    }
   ],
   "source": [
    "hist(geolocation,\"geolocation_zip_code_prefix\")"
   ]
  },
  {
   "cell_type": "code",
   "execution_count": 88,
   "metadata": {},
   "outputs": [
    {
     "data": {
      "image/png": "[encoded data removed]",
      "text/plain": [
       "<Figure size 432x288 with 1 Axes>"
      ]
     },
     "metadata": {
      "needs_background": "light"
     },
     "output_type": "display_data"
    }
   ],
   "source": [
    "hist(geolocation,\"geolocation_lat\")"
   ]
  },
  {
   "cell_type": "code",
   "execution_count": 89,
   "metadata": {},
   "outputs": [
    {
     "data": {
      "image/png": "[encoded data removed]",
      "text/plain": [
       "<Figure size 432x288 with 1 Axes>"
      ]
     },
     "metadata": {
      "needs_background": "light"
     },
     "output_type": "display_data"
    }
   ],
   "source": [
    "hist(geolocation,\"geolocation_lng\")"
   ]
  },
  {
   "cell_type": "code",
   "execution_count": 90,
   "metadata": {},
   "outputs": [
    {
     "data": {
      "text/plain": [
       "<matplotlib.axes._subplots.AxesSubplot at 0x1a20e12a20>"
      ]
     },
     "execution_count": 90,
     "metadata": {},
     "output_type": "execute_result"
    },
    {
     "data": {
      "image/png": "[encoded data removed]",
      "text/plain": [
       "<Figure size 576x576 with 1 Axes>"
      ]
     },
     "metadata": {
      "needs_background": "light"
     },
     "output_type": "display_data"
    }
   ],
   "source": [
    "geolocation.plot(x = \"geolocation_lat\", y = \"geolocation_lng\",\n",
    "                 kind = \"scatter\", color = \"red\",\n",
    "                 alpha = 0.6, figsize = (8,8))"
   ]
  },
  {
   "cell_type": "code",
   "execution_count": 91,
   "metadata": {},
   "outputs": [
    {
     "data": {
      "image/png": "[encoded data removed]",
      "text/plain": [
       "<Figure size 432x288 with 1 Axes>"
      ]
     },
     "metadata": {
      "needs_background": "light"
     },
     "output_type": "display_data"
    }
   ],
   "source": [
    "plot(geolocation,\"geolocation_state\",\"bar\")"
   ]
  }
 ],
 "metadata": {
  "kernelspec": {
   "display_name": "Python 3",
   "language": "python",
   "name": "python3"
  },
  "language_info": {
   "codemirror_mode": {
    "name": "ipython",
    "version": 3
   },
   "file_extension": ".py",
   "mimetype": "text/x-python",
   "name": "python",
   "nbconvert_exporter": "python",
   "pygments_lexer": "ipython3",
   "version": "3.6.8"
  }
 },
 "nbformat": 4,
 "nbformat_minor": 2
}
